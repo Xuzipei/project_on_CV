{
 "cells": [
  {
   "cell_type": "markdown",
   "id": "5dcecbd5",
   "metadata": {},
   "source": [
    "## 项目背景"
   ]
  },
  {
   "cell_type": "markdown",
   "id": "20b00bd9",
   "metadata": {},
   "source": [
    "此项目用于某品牌的某ID单品销量预测\n",
    "\n",
    "此项目选用XGB模型对销量进行回归预测,未进行模型融合.\n",
    "\n",
    "评判标准有三种,分别是MAE(预测与实际的销量差额绝对值平均数),单天预测准确率,整体预测差异率,计算方法如下\n",
    "\n",
    "$$\n",
    "MAE = \\frac{1}{m}\\sum_{}^{m}(\\left| y-\\hat{y} \\right|)\n",
    "$$\n",
    "\n",
    "$$\n",
    "单天预测准确率 = 1-\\frac{1}{m}\\sum_{}^{m}\\frac{\\left| y-\\hat{y} \\right|}{y}\n",
    "$$\n",
    "\n",
    "$$\n",
    "整体预测差异率 = 1-\\frac{\\sum_{}^{m}y-\\sum_{}^{m}\\hat{y}}{\\sum_{}^{m}y}\n",
    "$$\n",
    "\n",
    "\n",
    "## 最终结果如下表\n",
    "\n",
    "| 数据集名称 | MAE | 单天预测差异率 | 整体预测差异率 |\n",
    "|:------|:---:|:-------:|:-------:|\n",
    "| 验证集   | 479 | 65.35%  | 99.41%  |\n",
    "| 测试集   | 285 | 58.10%  | 97.23%  |\n",
    "\n",
    "单天预测绝对值差异较大的数据主要集中在大促时间点附近,一方面是大促的数据较少,模型不能很好的预测,另一方面也有每年大促玩法,力度不同的原因.(为对抗第二种情况,引入人工tag**活动强度**,由业务同学手动填写)\n",
    "\n",
    "单天预测差异率较大的数据主要是实际数据较小,差异绝对值不大,但差异率较大,拉高了整体的预测差异率\n",
    "\n",
    "模型结果无明显差异,泛化性较好.\n",
    "\n",
    "\n",
    "\n",
    "## 过程\n",
    "此项目原始提供**时间,商品ID,销售金额,销量, 客单价,当天价格,加购**字段\n",
    "\n",
    "添加**年,月,日,周,季,周几**等字段字段\n",
    "\n",
    "尝试添加 **前一天销售金额,前一周销售金额,前十五天销售金额,前三十天销售金额,前一天加购人数,前一周加购人数,前十五天加购人数,前三十天加购人数**字段,但结果显示为负收益\n",
    "\n",
    "舍弃 销售金额,客单价,加购 字段(实际业务中并不能获取到)\n",
    "\n",
    "因销量字段大促期和平销期差距过大,做对数处理\n",
    "\n",
    "通过三次随机网格搜索,分别测试,选出最佳超参数\n",
    "\n",
    "\n",
    "\n",
    "\n"
   ]
  },
  {
   "cell_type": "code",
   "execution_count": 1534,
   "id": "205afd63",
   "metadata": {
    "ExecuteTime": {
     "end_time": "2022-09-23T08:16:38.122696Z",
     "start_time": "2022-09-23T08:16:38.105702Z"
    }
   },
   "outputs": [],
   "source": [
    "\n",
    "import os\n",
    "import time\n",
    "import datetime\n",
    "import json"
   ]
  },
  {
   "cell_type": "code",
   "execution_count": 1535,
   "id": "ad2e4f30",
   "metadata": {
    "ExecuteTime": {
     "end_time": "2022-09-23T08:16:38.138695Z",
     "start_time": "2022-09-23T08:16:38.124692Z"
    }
   },
   "outputs": [],
   "source": [
    "import pandas as pd\n",
    "import numpy as np\n",
    "import scipy as sp\n",
    "import xgboost\n",
    "\n",
    "import matplotlib.pyplot as plt\n"
   ]
  },
  {
   "cell_type": "code",
   "execution_count": 1536,
   "id": "3e906c92",
   "metadata": {
    "ExecuteTime": {
     "end_time": "2022-09-23T08:16:38.154695Z",
     "start_time": "2022-09-23T08:16:38.139691Z"
    }
   },
   "outputs": [],
   "source": [
    "from sklearn.preprocessing import StandardScaler,LabelEncoder\n",
    "from sklearn.base import TransformerMixin\n",
    "from sklearn import model_selection\n",
    "from sklearn.model_selection import GridSearchCV\n",
    "from sklearn.metrics import mean_squared_error as MSE\n",
    "from sklearn.metrics import mean_absolute_error as MAE"
   ]
  },
  {
   "cell_type": "code",
   "execution_count": 1537,
   "id": "4e2bcc5c",
   "metadata": {
    "ExecuteTime": {
     "end_time": "2022-09-23T08:16:38.170695Z",
     "start_time": "2022-09-23T08:16:38.155691Z"
    }
   },
   "outputs": [],
   "source": [
    "np.set_printoptions(suppress=True)"
   ]
  },
  {
   "cell_type": "code",
   "execution_count": 1538,
   "id": "877ec59a",
   "metadata": {
    "ExecuteTime": {
     "end_time": "2022-09-23T08:16:38.186695Z",
     "start_time": "2022-09-23T08:16:38.171691Z"
    }
   },
   "outputs": [],
   "source": [
    "def load_active_days(names):\n",
    "    #加载活动数据\n",
    "    datas = []\n",
    "    for i in names:\n",
    "        with open(i,'r',encoding='utf-8') as f:\n",
    "            s1 = json.loads(f.read())\n",
    "            data = s1['data']\n",
    "            datas.extend(data)\n",
    "    active_days_df = pd.DataFrame().from_dict(s1['data'])\n",
    "    \n",
    "    #时间戳类型列转日期\n",
    "    time_cols_list = ['activityStart','preheatStart','preheatEnd','ORDER_BY_TIME','activityEnd']\n",
    "    for time_col in time_cols_list:\n",
    "        active_days_df[time_col] = active_days_df[time_col].apply(lambda x:pd.to_datetime(x,unit='ms')+pd.Timedelta(days = 8/24))\n",
    "    #转换类型\n",
    "    return active_days_df\n",
    "\n",
    "def date_col_split(df,date_col_name):\n",
    "    #时间列拆分\n",
    "    weekday2num = {\n",
    "        'Monday':1,\n",
    "        'Tuesday':2,\n",
    "        'Wednesday':3,\n",
    "        'Thursday':4,\n",
    "        'Friday':5,\n",
    "        'Saturday':6,\n",
    "        'Sunday':7\n",
    "    }\n",
    "    \n",
    "    df['year'] = df[date_col_name].dt.year\n",
    "    df['month'] = df[date_col_name].dt.month\n",
    "    df['day'] = df[date_col_name].dt.day\n",
    "    df['week'] = df[date_col_name].dt.isocalendar().week\n",
    "    df['week'] = df['week'].astype('int')\n",
    "    df['quarter']  = df[date_col_name].dt.quarter\n",
    "    df['day_of_week'] = df[date_col_name].dt.day_name()\n",
    "    df['day_of_week'] = df['day_of_week'].map(weekday2num)"
   ]
  },
  {
   "cell_type": "code",
   "execution_count": 1539,
   "id": "04ec00ad",
   "metadata": {
    "ExecuteTime": {
     "end_time": "2022-09-23T08:16:38.201762Z",
     "start_time": "2022-09-23T08:16:38.187691Z"
    }
   },
   "outputs": [],
   "source": [
    "# def MAE(predict_log_data_tuple,real_data_tuple):\n",
    "#     length = predict_log_data_tuple.shape[0]\n",
    "#     error_sum = 0\n",
    "#     data_list = []\n",
    "#     real_data_list = list(real_data_tuple)\n",
    "#     for log_data in predict_log_data_tuple:\n",
    "#         data = np.exp(log_data)-1\n",
    "#         data_list.append(data)\n",
    "#     for num in range(length):\n",
    "#         basal = max(data_list[num],real_data_list[num])\n",
    "#         if basal ==0:\n",
    "#             basal = 1\n",
    "#         error = (abs(data_list[num]-real_data_list[num])/basal)**2\n",
    "#         error_sum+=error\n",
    "#     rmse = 1-np.sqrt(error_sum/(length+1))\n",
    "#     return rmse,data_list,real_data_list"
   ]
  },
  {
   "cell_type": "code",
   "execution_count": 1540,
   "id": "f82d7717",
   "metadata": {},
   "outputs": [],
   "source": [
    "def days_of_2019(date):\n",
    "    if date>pd.to_datetime('20210301'):\n",
    "        return_date = date+datetime.timedelta(days = -730)\n",
    "    else:\n",
    "        return_date = date+datetime.timedelta(days = -731)\n",
    "    return return_date"
   ]
  },
  {
   "cell_type": "markdown",
   "id": "4c3bb5ea",
   "metadata": {},
   "source": [
    "## 读取活动日历"
   ]
  },
  {
   "cell_type": "code",
   "execution_count": 1541,
   "id": "bd076af3",
   "metadata": {
    "ExecuteTime": {
     "end_time": "2022-09-23T08:16:38.264202Z",
     "start_time": "2022-09-23T08:16:38.202803Z"
    }
   },
   "outputs": [],
   "source": [
    "names = ['飞利浦活动日历-2021.txt']\n",
    "active_days_df = load_active_days(names)\n",
    "\n",
    "#platformActivityId 的空值由activityId填补\n",
    "active_days_df.loc[active_days_df['platformActivityId'].isna(),'platformActivityId'] = active_days_df.loc[active_days_df['platformActivityId'].isna(),'activityId']\n",
    "# 删除活动等级为S,活动类型为2的 (这些都是预售)\n",
    "active_days_df.drop(active_days_df[(active_days_df['activityFlag']=='S')&(active_days_df['activityMode']==2)].index,inplace=True)"
   ]
  },
  {
   "cell_type": "code",
   "execution_count": 1542,
   "id": "a398de33",
   "metadata": {
    "ExecuteTime": {
     "end_time": "2022-09-23T08:16:38.279226Z",
     "start_time": "2022-09-23T08:16:38.266223Z"
    }
   },
   "outputs": [],
   "source": [
    "active_days_2019_df = active_days_df.copy(deep=True)\n",
    "active_days_2020_df = active_days_df.copy(deep=True)"
   ]
  },
  {
   "cell_type": "code",
   "execution_count": 1543,
   "id": "de8a5355",
   "metadata": {
    "ExecuteTime": {
     "end_time": "2022-09-23T08:16:38.325717Z",
     "start_time": "2022-09-23T08:16:38.297714Z"
    }
   },
   "outputs": [],
   "source": [
    "active_days_2020_df['activityStart'] = active_days_2020_df['activityStart']+datetime.timedelta(days = -365)\n",
    "active_days_2019_df['activityStart'] = active_days_2019_df['activityStart'].apply(days_of_2019)\n",
    "active_days_2020_df['activityEnd'] = active_days_2020_df['activityEnd']+datetime.timedelta(days = -365)\n",
    "active_days_2019_df['activityEnd'] = active_days_2019_df['activityEnd'].apply(days_of_2019)\n",
    "active_days_2020_df['ORDER_BY_TIME'] = active_days_2020_df['ORDER_BY_TIME']+datetime.timedelta(days = -365)\n",
    "active_days_2019_df['ORDER_BY_TIME'] = active_days_2019_df['ORDER_BY_TIME'].apply(days_of_2019)"
   ]
  },
  {
   "cell_type": "code",
   "execution_count": 1544,
   "id": "d6f81594",
   "metadata": {
    "ExecuteTime": {
     "end_time": "2022-09-23T08:16:38.341717Z",
     "start_time": "2022-09-23T08:16:38.326714Z"
    }
   },
   "outputs": [],
   "source": [
    "active_days_df = pd.concat([active_days_df,active_days_2019_df,active_days_2020_df])"
   ]
  },
  {
   "cell_type": "code",
   "execution_count": 1545,
   "id": "5bbc7aae",
   "metadata": {
    "ExecuteTime": {
     "end_time": "2022-09-23T08:16:38.480217Z",
     "start_time": "2022-09-23T08:16:38.342713Z"
    }
   },
   "outputs": [
    {
     "data": {
      "text/html": [
       "<div>\n",
       "<style scoped>\n",
       "    .dataframe tbody tr th:only-of-type {\n",
       "        vertical-align: middle;\n",
       "    }\n",
       "\n",
       "    .dataframe tbody tr th {\n",
       "        vertical-align: top;\n",
       "    }\n",
       "\n",
       "    .dataframe thead th {\n",
       "        text-align: right;\n",
       "    }\n",
       "</style>\n",
       "<table border=\"1\" class=\"dataframe\">\n",
       "  <thead>\n",
       "    <tr style=\"text-align: right;\">\n",
       "      <th></th>\n",
       "      <th>Date</th>\n",
       "      <th>SKU</th>\n",
       "      <th>Store</th>\n",
       "      <th>Sales</th>\n",
       "      <th>Qty</th>\n",
       "      <th>ASP</th>\n",
       "      <th>客单价</th>\n",
       "      <th>Shopping Cart</th>\n",
       "      <th>宝贝名称</th>\n",
       "      <th>URL地址</th>\n",
       "      <th>活动强度</th>\n",
       "    </tr>\n",
       "  </thead>\n",
       "  <tbody>\n",
       "    <tr>\n",
       "      <th>0</th>\n",
       "      <td>20190101</td>\n",
       "      <td>HX6730</td>\n",
       "      <td>飞利浦官方旗舰店</td>\n",
       "      <td>222171.50</td>\n",
       "      <td>551</td>\n",
       "      <td>403.215064</td>\n",
       "      <td>447.025151</td>\n",
       "      <td>1652.0</td>\n",
       "      <td>飞利浦电动牙刷HX6730/6721成人充电式声波震动电动牙刷智能净白</td>\n",
       "      <td>http://detail.tmall.com/item.htm?id=13230519823</td>\n",
       "      <td>2</td>\n",
       "    </tr>\n",
       "    <tr>\n",
       "      <th>1</th>\n",
       "      <td>20190102</td>\n",
       "      <td>HX6730</td>\n",
       "      <td>飞利浦官方旗舰店</td>\n",
       "      <td>17736.00</td>\n",
       "      <td>44</td>\n",
       "      <td>403.090909</td>\n",
       "      <td>454.769231</td>\n",
       "      <td>1828.0</td>\n",
       "      <td>飞利浦电动牙刷HX6730/6721成人充电式声波震动电动牙刷智能净白</td>\n",
       "      <td>http://detail.tmall.com/item.htm?id=13230519823</td>\n",
       "      <td>2</td>\n",
       "    </tr>\n",
       "    <tr>\n",
       "      <th>2</th>\n",
       "      <td>20190103</td>\n",
       "      <td>HX6730</td>\n",
       "      <td>飞利浦官方旗舰店</td>\n",
       "      <td>451025.41</td>\n",
       "      <td>1132</td>\n",
       "      <td>398.432341</td>\n",
       "      <td>444.798235</td>\n",
       "      <td>2225.0</td>\n",
       "      <td>飞利浦电动牙刷HX6730/6721成人充电式声波震动电动牙刷智能净白</td>\n",
       "      <td>http://detail.tmall.com/item.htm?id=13230519823</td>\n",
       "      <td>2</td>\n",
       "    </tr>\n",
       "    <tr>\n",
       "      <th>3</th>\n",
       "      <td>20190104</td>\n",
       "      <td>HX6730</td>\n",
       "      <td>飞利浦官方旗舰店</td>\n",
       "      <td>280162.60</td>\n",
       "      <td>703</td>\n",
       "      <td>398.524324</td>\n",
       "      <td>448.260160</td>\n",
       "      <td>1871.0</td>\n",
       "      <td>飞利浦电动牙刷HX6730/6721成人充电式声波震动电动牙刷智能净白</td>\n",
       "      <td>http://detail.tmall.com/item.htm?id=13230519823</td>\n",
       "      <td>2</td>\n",
       "    </tr>\n",
       "    <tr>\n",
       "      <th>4</th>\n",
       "      <td>20190105</td>\n",
       "      <td>HX6730</td>\n",
       "      <td>飞利浦官方旗舰店</td>\n",
       "      <td>195976.56</td>\n",
       "      <td>487</td>\n",
       "      <td>402.415934</td>\n",
       "      <td>437.447679</td>\n",
       "      <td>1768.0</td>\n",
       "      <td>飞利浦电动牙刷HX6730/6721成人充电式声波震动电动牙刷智能净白</td>\n",
       "      <td>http://detail.tmall.com/item.htm?id=13230519823</td>\n",
       "      <td>2</td>\n",
       "    </tr>\n",
       "    <tr>\n",
       "      <th>...</th>\n",
       "      <td>...</td>\n",
       "      <td>...</td>\n",
       "      <td>...</td>\n",
       "      <td>...</td>\n",
       "      <td>...</td>\n",
       "      <td>...</td>\n",
       "      <td>...</td>\n",
       "      <td>...</td>\n",
       "      <td>...</td>\n",
       "      <td>...</td>\n",
       "      <td>...</td>\n",
       "    </tr>\n",
       "    <tr>\n",
       "      <th>1091</th>\n",
       "      <td>20211227</td>\n",
       "      <td>HX6730</td>\n",
       "      <td>飞利浦官方旗舰店</td>\n",
       "      <td>163671.00</td>\n",
       "      <td>519</td>\n",
       "      <td>315.358382</td>\n",
       "      <td>353.501080</td>\n",
       "      <td>NaN</td>\n",
       "      <td>飞利浦电动牙刷HX6730/HX7082成人充电声波震动电动牙刷智能净白</td>\n",
       "      <td>NaN</td>\n",
       "      <td>2</td>\n",
       "    </tr>\n",
       "    <tr>\n",
       "      <th>1092</th>\n",
       "      <td>20211228</td>\n",
       "      <td>HX6730</td>\n",
       "      <td>飞利浦官方旗舰店</td>\n",
       "      <td>105364.00</td>\n",
       "      <td>336</td>\n",
       "      <td>313.583333</td>\n",
       "      <td>343.205212</td>\n",
       "      <td>NaN</td>\n",
       "      <td>飞利浦电动牙刷HX6730/HX7083成人充电声波震动电动牙刷智能净白</td>\n",
       "      <td>NaN</td>\n",
       "      <td>2</td>\n",
       "    </tr>\n",
       "    <tr>\n",
       "      <th>1093</th>\n",
       "      <td>20211229</td>\n",
       "      <td>HX6730</td>\n",
       "      <td>飞利浦官方旗舰店</td>\n",
       "      <td>78347.00</td>\n",
       "      <td>253</td>\n",
       "      <td>309.671937</td>\n",
       "      <td>329.189076</td>\n",
       "      <td>NaN</td>\n",
       "      <td>飞利浦电动牙刷HX6730/HX7084成人充电声波震动电动牙刷智能净白</td>\n",
       "      <td>NaN</td>\n",
       "      <td>2</td>\n",
       "    </tr>\n",
       "    <tr>\n",
       "      <th>1094</th>\n",
       "      <td>20211230</td>\n",
       "      <td>HX6730</td>\n",
       "      <td>飞利浦官方旗舰店</td>\n",
       "      <td>230168.36</td>\n",
       "      <td>726</td>\n",
       "      <td>317.036309</td>\n",
       "      <td>359.638062</td>\n",
       "      <td>NaN</td>\n",
       "      <td>飞利浦电动牙刷HX6730/HX7085成人充电声波震动电动牙刷智能净白</td>\n",
       "      <td>NaN</td>\n",
       "      <td>2</td>\n",
       "    </tr>\n",
       "    <tr>\n",
       "      <th>1095</th>\n",
       "      <td>20211231</td>\n",
       "      <td>HX6730</td>\n",
       "      <td>飞利浦官方旗舰店</td>\n",
       "      <td>190830.36</td>\n",
       "      <td>603</td>\n",
       "      <td>316.468259</td>\n",
       "      <td>348.867203</td>\n",
       "      <td>NaN</td>\n",
       "      <td>飞利浦电动牙刷HX6730/HX7086成人充电声波震动电动牙刷智能净白</td>\n",
       "      <td>NaN</td>\n",
       "      <td>2</td>\n",
       "    </tr>\n",
       "  </tbody>\n",
       "</table>\n",
       "<p>1096 rows × 11 columns</p>\n",
       "</div>"
      ],
      "text/plain": [
       "          Date     SKU     Store      Sales   Qty         ASP         客单价  \\\n",
       "0     20190101  HX6730  飞利浦官方旗舰店  222171.50   551  403.215064  447.025151   \n",
       "1     20190102  HX6730  飞利浦官方旗舰店   17736.00    44  403.090909  454.769231   \n",
       "2     20190103  HX6730  飞利浦官方旗舰店  451025.41  1132  398.432341  444.798235   \n",
       "3     20190104  HX6730  飞利浦官方旗舰店  280162.60   703  398.524324  448.260160   \n",
       "4     20190105  HX6730  飞利浦官方旗舰店  195976.56   487  402.415934  437.447679   \n",
       "...        ...     ...       ...        ...   ...         ...         ...   \n",
       "1091  20211227  HX6730  飞利浦官方旗舰店  163671.00   519  315.358382  353.501080   \n",
       "1092  20211228  HX6730  飞利浦官方旗舰店  105364.00   336  313.583333  343.205212   \n",
       "1093  20211229  HX6730  飞利浦官方旗舰店   78347.00   253  309.671937  329.189076   \n",
       "1094  20211230  HX6730  飞利浦官方旗舰店  230168.36   726  317.036309  359.638062   \n",
       "1095  20211231  HX6730  飞利浦官方旗舰店  190830.36   603  316.468259  348.867203   \n",
       "\n",
       "      Shopping Cart                                  宝贝名称  \\\n",
       "0            1652.0   飞利浦电动牙刷HX6730/6721成人充电式声波震动电动牙刷智能净白   \n",
       "1            1828.0   飞利浦电动牙刷HX6730/6721成人充电式声波震动电动牙刷智能净白   \n",
       "2            2225.0   飞利浦电动牙刷HX6730/6721成人充电式声波震动电动牙刷智能净白   \n",
       "3            1871.0   飞利浦电动牙刷HX6730/6721成人充电式声波震动电动牙刷智能净白   \n",
       "4            1768.0   飞利浦电动牙刷HX6730/6721成人充电式声波震动电动牙刷智能净白   \n",
       "...             ...                                   ...   \n",
       "1091            NaN  飞利浦电动牙刷HX6730/HX7082成人充电声波震动电动牙刷智能净白   \n",
       "1092            NaN  飞利浦电动牙刷HX6730/HX7083成人充电声波震动电动牙刷智能净白   \n",
       "1093            NaN  飞利浦电动牙刷HX6730/HX7084成人充电声波震动电动牙刷智能净白   \n",
       "1094            NaN  飞利浦电动牙刷HX6730/HX7085成人充电声波震动电动牙刷智能净白   \n",
       "1095            NaN  飞利浦电动牙刷HX6730/HX7086成人充电声波震动电动牙刷智能净白   \n",
       "\n",
       "                                                URL地址  活动强度  \n",
       "0     http://detail.tmall.com/item.htm?id=13230519823     2  \n",
       "1     http://detail.tmall.com/item.htm?id=13230519823     2  \n",
       "2     http://detail.tmall.com/item.htm?id=13230519823     2  \n",
       "3     http://detail.tmall.com/item.htm?id=13230519823     2  \n",
       "4     http://detail.tmall.com/item.htm?id=13230519823     2  \n",
       "...                                               ...   ...  \n",
       "1091                                              NaN     2  \n",
       "1092                                              NaN     2  \n",
       "1093                                              NaN     2  \n",
       "1094                                              NaN     2  \n",
       "1095                                              NaN     2  \n",
       "\n",
       "[1096 rows x 11 columns]"
      ]
     },
     "execution_count": 1545,
     "metadata": {},
     "output_type": "execute_result"
    }
   ],
   "source": [
    "flp_sales_source_data_df = pd.read_excel('./6730sku_predict.xlsx')\n",
    "flp_sales_source_data_df"
   ]
  },
  {
   "cell_type": "code",
   "execution_count": 1546,
   "id": "fb22b422",
   "metadata": {
    "ExecuteTime": {
     "end_time": "2022-09-23T08:16:38.496234Z",
     "start_time": "2022-09-23T08:16:38.481232Z"
    }
   },
   "outputs": [],
   "source": [
    "# active_days_df.to_excel('./flp_active.xlsx',index=None)"
   ]
  },
  {
   "cell_type": "markdown",
   "id": "f225ab79",
   "metadata": {},
   "source": [
    "## 数据预处理"
   ]
  },
  {
   "cell_type": "markdown",
   "id": "78c75d17",
   "metadata": {},
   "source": [
    "### 缺失值处理"
   ]
  },
  {
   "cell_type": "code",
   "execution_count": 1547,
   "id": "eac53038",
   "metadata": {
    "ExecuteTime": {
     "end_time": "2022-09-23T08:16:38.512234Z",
     "start_time": "2022-09-23T08:16:38.498231Z"
    }
   },
   "outputs": [],
   "source": [
    "flp_sales_source_data_df['Sales'] = flp_sales_source_data_df['Sales'].fillna(0)\n",
    "\n",
    "\n",
    "flp_sales_source_data_df['Qty'].fillna(value=0,inplace=True)\n",
    "\n",
    "flp_sales_source_data_df.loc[flp_sales_source_data_df['客单价'].isna(),'客单价'] = flp_sales_source_data_df[flp_sales_source_data_df['客单价'].isna()]['Sales']/flp_sales_source_data_df[flp_sales_source_data_df['客单价'].isna()]['Qty']\n",
    "flp_sales_source_data_df['客单价'] = flp_sales_source_data_df['客单价'].fillna(0)\n",
    "\n",
    "flp_sales_source_data_df.loc[flp_sales_source_data_df['ASP'].isna(),'ASP'] = flp_sales_source_data_df[flp_sales_source_data_df['ASP'].isna()]['Sales']/flp_sales_source_data_df[flp_sales_source_data_df['ASP'].isna()]['Qty']\n",
    "flp_sales_source_data_df['ASP'] = flp_sales_source_data_df['ASP'].fillna(0)\n",
    "\n",
    "flp_sales_source_data_df['Shopping Cart'].fillna(method='ffill',inplace=True)\n",
    "flp_sales_source_data_df['URL地址'].fillna(method='ffill',inplace=True)"
   ]
  },
  {
   "cell_type": "markdown",
   "id": "f6c83f3c",
   "metadata": {},
   "source": [
    "### 类型转换,构建数值列表和类别列表"
   ]
  },
  {
   "cell_type": "code",
   "execution_count": 1548,
   "id": "41195058",
   "metadata": {
    "ExecuteTime": {
     "end_time": "2022-09-23T08:16:38.528235Z",
     "start_time": "2022-09-23T08:16:38.513231Z"
    }
   },
   "outputs": [],
   "source": [
    "flp_sales_source_data_df['Sales'] = flp_sales_source_data_df['Sales'].astype(int)\n",
    "features = flp_sales_source_data_df.columns.to_list()\n",
    "numerics = ['int16','int32','int64','float32','float64']\n",
    "numeric_cols = flp_sales_source_data_df.select_dtypes(include=numerics).columns.to_list()\n",
    "non_numeric_cols = [i for i in features if i not in numeric_cols]"
   ]
  },
  {
   "cell_type": "code",
   "execution_count": 1549,
   "id": "8cacd5aa",
   "metadata": {
    "ExecuteTime": {
     "end_time": "2022-09-23T08:16:38.544234Z",
     "start_time": "2022-09-23T08:16:38.529231Z"
    }
   },
   "outputs": [
    {
     "data": {
      "text/plain": [
       "['SKU', 'Store', '宝贝名称', 'URL地址']"
      ]
     },
     "execution_count": 1549,
     "metadata": {},
     "output_type": "execute_result"
    }
   ],
   "source": [
    "non_numeric_cols"
   ]
  },
  {
   "cell_type": "markdown",
   "id": "d9f2bd76",
   "metadata": {},
   "source": [
    "### 缺失值处理"
   ]
  },
  {
   "cell_type": "code",
   "execution_count": 1550,
   "id": "f5c5849c",
   "metadata": {
    "ExecuteTime": {
     "end_time": "2022-09-23T08:16:38.559083Z",
     "start_time": "2022-09-23T08:16:38.545529Z"
    }
   },
   "outputs": [],
   "source": [
    "flp_sales_source_data_df['Sales'] = flp_sales_source_data_df['Sales'].fillna(0)\n",
    "\n",
    "\n",
    "flp_sales_source_data_df['Qty'].fillna(value=0,inplace=True)\n",
    "\n",
    "flp_sales_source_data_df.loc[flp_sales_source_data_df['客单价'].isna(),'客单价'] = flp_sales_source_data_df[flp_sales_source_data_df['客单价'].isna()]['Sales']/flp_sales_source_data_df[flp_sales_source_data_df['客单价'].isna()]['Qty']\n",
    "flp_sales_source_data_df['客单价'] = flp_sales_source_data_df['客单价'].fillna(0)\n",
    "\n",
    "flp_sales_source_data_df.loc[flp_sales_source_data_df['ASP'].isna(),'ASP'] = flp_sales_source_data_df[flp_sales_source_data_df['ASP'].isna()]['Sales']/flp_sales_source_data_df[flp_sales_source_data_df['ASP'].isna()]['Qty']\n",
    "flp_sales_source_data_df['ASP'] = flp_sales_source_data_df['ASP'].fillna(0)\n",
    "\n",
    "flp_sales_source_data_df['Shopping Cart'].fillna(method='ffill',inplace=True)\n",
    "flp_sales_source_data_df['URL地址'].fillna(method='ffill',inplace=True)"
   ]
  },
  {
   "cell_type": "code",
   "execution_count": 1551,
   "id": "bebcc4e1",
   "metadata": {
    "ExecuteTime": {
     "end_time": "2022-09-23T08:16:38.574087Z",
     "start_time": "2022-09-23T08:16:38.561083Z"
    }
   },
   "outputs": [
    {
     "data": {
      "text/plain": [
       "Date             0\n",
       "SKU              0\n",
       "Store            0\n",
       "Sales            0\n",
       "Qty              0\n",
       "ASP              0\n",
       "客单价              0\n",
       "Shopping Cart    0\n",
       "宝贝名称             0\n",
       "URL地址            0\n",
       "活动强度             0\n",
       "dtype: int64"
      ]
     },
     "execution_count": 1551,
     "metadata": {},
     "output_type": "execute_result"
    }
   ],
   "source": [
    "flp_sales_source_data_df.isna().sum()"
   ]
  },
  {
   "cell_type": "code",
   "execution_count": 1552,
   "id": "42038e2e",
   "metadata": {
    "ExecuteTime": {
     "end_time": "2022-09-23T08:16:38.589197Z",
     "start_time": "2022-09-23T08:16:38.575086Z"
    }
   },
   "outputs": [
    {
     "data": {
      "text/html": [
       "<div>\n",
       "<style scoped>\n",
       "    .dataframe tbody tr th:only-of-type {\n",
       "        vertical-align: middle;\n",
       "    }\n",
       "\n",
       "    .dataframe tbody tr th {\n",
       "        vertical-align: top;\n",
       "    }\n",
       "\n",
       "    .dataframe thead th {\n",
       "        text-align: right;\n",
       "    }\n",
       "</style>\n",
       "<table border=\"1\" class=\"dataframe\">\n",
       "  <thead>\n",
       "    <tr style=\"text-align: right;\">\n",
       "      <th></th>\n",
       "      <th>Date</th>\n",
       "      <th>SKU</th>\n",
       "      <th>Store</th>\n",
       "      <th>Sales</th>\n",
       "      <th>Qty</th>\n",
       "      <th>ASP</th>\n",
       "      <th>客单价</th>\n",
       "      <th>Shopping Cart</th>\n",
       "      <th>宝贝名称</th>\n",
       "      <th>URL地址</th>\n",
       "      <th>活动强度</th>\n",
       "    </tr>\n",
       "  </thead>\n",
       "  <tbody>\n",
       "  </tbody>\n",
       "</table>\n",
       "</div>"
      ],
      "text/plain": [
       "Empty DataFrame\n",
       "Columns: [Date, SKU, Store, Sales, Qty, ASP, 客单价, Shopping Cart, 宝贝名称, URL地址, 活动强度]\n",
       "Index: []"
      ]
     },
     "execution_count": 1552,
     "metadata": {},
     "output_type": "execute_result"
    }
   ],
   "source": [
    "flp_sales_source_data_df[flp_sales_source_data_df['Date'].duplicated()]"
   ]
  },
  {
   "cell_type": "markdown",
   "id": "fd4505a5",
   "metadata": {},
   "source": [
    "### 字符型编码"
   ]
  },
  {
   "cell_type": "code",
   "execution_count": 1553,
   "id": "f677d0ad",
   "metadata": {
    "ExecuteTime": {
     "end_time": "2022-09-23T08:16:38.605212Z",
     "start_time": "2022-09-23T08:16:38.590208Z"
    }
   },
   "outputs": [],
   "source": [
    "le = LabelEncoder()\n",
    "for col in non_numeric_cols:\n",
    "    le.fit(flp_sales_source_data_df[col])\n",
    "    flp_sales_source_data_df[col] = le.transform(flp_sales_source_data_df[col])"
   ]
  },
  {
   "cell_type": "code",
   "execution_count": 1554,
   "id": "0a716ea0",
   "metadata": {
    "ExecuteTime": {
     "end_time": "2022-09-23T08:16:38.763821Z",
     "start_time": "2022-09-23T08:16:38.606207Z"
    }
   },
   "outputs": [
    {
     "data": {
      "text/plain": [
       "(array([845., 139.,  40.,  19.,   6.,   4.,   6.,   6.,   4.,   3.,   3.,\n",
       "          1.,   5.,   2.,   1.,   0.,   0.,   0.,   0.,   2.,   0.,   1.,\n",
       "          2.,   0.,   0.,   0.,   2.,   0.,   0.,   0.,   0.,   1.,   2.,\n",
       "          0.,   0.,   0.,   0.,   0.,   0.,   0.,   0.,   0.,   0.,   0.,\n",
       "          0.,   0.,   0.,   0.,   0.,   0.,   0.,   0.,   0.,   0.,   1.,\n",
       "          0.,   0.,   0.,   0.,   0.,   0.,   0.,   0.,   0.,   0.,   0.,\n",
       "          0.,   0.,   0.,   0.,   0.,   0.,   0.,   0.,   0.,   0.,   0.,\n",
       "          0.,   0.,   0.,   0.,   0.,   0.,   0.,   0.,   0.,   0.,   0.,\n",
       "          0.,   0.,   0.,   0.,   0.,   0.,   0.,   0.,   0.,   0.,   0.,\n",
       "          1.]),\n",
       " array([     0.  ,   1273.37,   2546.74,   3820.11,   5093.48,   6366.85,\n",
       "          7640.22,   8913.59,  10186.96,  11460.33,  12733.7 ,  14007.07,\n",
       "         15280.44,  16553.81,  17827.18,  19100.55,  20373.92,  21647.29,\n",
       "         22920.66,  24194.03,  25467.4 ,  26740.77,  28014.14,  29287.51,\n",
       "         30560.88,  31834.25,  33107.62,  34380.99,  35654.36,  36927.73,\n",
       "         38201.1 ,  39474.47,  40747.84,  42021.21,  43294.58,  44567.95,\n",
       "         45841.32,  47114.69,  48388.06,  49661.43,  50934.8 ,  52208.17,\n",
       "         53481.54,  54754.91,  56028.28,  57301.65,  58575.02,  59848.39,\n",
       "         61121.76,  62395.13,  63668.5 ,  64941.87,  66215.24,  67488.61,\n",
       "         68761.98,  70035.35,  71308.72,  72582.09,  73855.46,  75128.83,\n",
       "         76402.2 ,  77675.57,  78948.94,  80222.31,  81495.68,  82769.05,\n",
       "         84042.42,  85315.79,  86589.16,  87862.53,  89135.9 ,  90409.27,\n",
       "         91682.64,  92956.01,  94229.38,  95502.75,  96776.12,  98049.49,\n",
       "         99322.86, 100596.23, 101869.6 , 103142.97, 104416.34, 105689.71,\n",
       "        106963.08, 108236.45, 109509.82, 110783.19, 112056.56, 113329.93,\n",
       "        114603.3 , 115876.67, 117150.04, 118423.41, 119696.78, 120970.15,\n",
       "        122243.52, 123516.89, 124790.26, 126063.63, 127337.  ]),\n",
       " <BarContainer object of 100 artists>)"
      ]
     },
     "execution_count": 1554,
     "metadata": {},
     "output_type": "execute_result"
    },
    {
     "data": {
      "image/png": "[encoded data removed]",
      "text/plain": [
       "<Figure size 640x480 with 1 Axes>"
      ]
     },
     "metadata": {},
     "output_type": "display_data"
    }
   ],
   "source": [
    "plt.hist(flp_sales_source_data_df['Qty'],bins=100)"
   ]
  },
  {
   "cell_type": "code",
   "execution_count": 1555,
   "id": "6cf09012",
   "metadata": {},
   "outputs": [
    {
     "data": {
      "text/plain": [
       "(array([ 1.,  0.,  1.,  0.,  0.,  2.,  5.,  2.,  0.,  5.,  7.,  4., 10.,\n",
       "         4.,  8.,  5., 12., 11., 20., 14., 17., 25., 29., 21., 31., 22.,\n",
       "        25., 35., 37., 21., 32., 31., 23., 31., 24., 20., 17., 21., 12.,\n",
       "         9.,  6.,  7.,  4.,  3.,  2.,  7.,  0.,  7.,  0., 67.,  0.,  0.,\n",
       "         4.,  0.,  2.,  2.,  6.,  4.,  4.,  9.,  5., 11., 11.,  9., 25.,\n",
       "        12., 18., 30., 20., 22., 20., 16., 12., 12., 11., 11.,  9., 10.,\n",
       "         4.,  8., 11.,  7.,  5., 10., 11.,  6.,  5.,  3.,  6.,  6.,  5.,\n",
       "         6.,  0.,  4.,  1.,  3.,  0.,  1.,  0.,  1.]),\n",
       " array([-11.74795016, -11.51292473, -11.2778993 , -11.04287388,\n",
       "        -10.80784845, -10.57282303, -10.3377976 , -10.10277218,\n",
       "         -9.86774675,  -9.63272133,  -9.3976959 ,  -9.16267047,\n",
       "         -8.92764505,  -8.69261962,  -8.4575942 ,  -8.22256877,\n",
       "         -7.98754335,  -7.75251792,  -7.5174925 ,  -7.28246707,\n",
       "         -7.04744165,  -6.81241622,  -6.57739079,  -6.34236537,\n",
       "         -6.10733994,  -5.87231452,  -5.63728909,  -5.40226367,\n",
       "         -5.16723824,  -4.93221282,  -4.69718739,  -4.46216196,\n",
       "         -4.22713654,  -3.99211111,  -3.75708569,  -3.52206026,\n",
       "         -3.28703484,  -3.05200941,  -2.81698399,  -2.58195856,\n",
       "         -2.34693314,  -2.11190771,  -1.87688228,  -1.64185686,\n",
       "         -1.40683143,  -1.17180601,  -0.93678058,  -0.70175516,\n",
       "         -0.46672973,  -0.23170431,   0.00332112,   0.23834655,\n",
       "          0.47337197,   0.7083974 ,   0.94342282,   1.17844825,\n",
       "          1.41347367,   1.6484991 ,   1.88352452,   2.11854995,\n",
       "          2.35357537,   2.5886008 ,   2.82362623,   3.05865165,\n",
       "          3.29367708,   3.5287025 ,   3.76372793,   3.99875335,\n",
       "          4.23377878,   4.4688042 ,   4.70382963,   4.93885505,\n",
       "          5.17388048,   5.40890591,   5.64393133,   5.87895676,\n",
       "          6.11398218,   6.34900761,   6.58403303,   6.81905846,\n",
       "          7.05408388,   7.28910931,   7.52413474,   7.75916016,\n",
       "          7.99418559,   8.22921101,   8.46423644,   8.69926186,\n",
       "          8.93428729,   9.16931271,   9.40433814,   9.63936356,\n",
       "          9.87438899,  10.10941442,  10.34443984,  10.57946527,\n",
       "         10.81449069,  11.04951612,  11.28454154,  11.51956697,\n",
       "         11.75459239]),\n",
       " <BarContainer object of 100 artists>)"
      ]
     },
     "execution_count": 1555,
     "metadata": {},
     "output_type": "execute_result"
    },
    {
     "data": {
      "image/png": "[encoded data removed]",
      "text/plain": [
       "<Figure size 640x480 with 1 Axes>"
      ]
     },
     "metadata": {},
     "output_type": "display_data"
    }
   ],
   "source": [
    "def log_if_not_0(num):\n",
    "    if num ==0:\n",
    "        return 0\n",
    "    else:\n",
    "        num = np.log(abs(num))*(num/abs(num))\n",
    "    return num\n",
    "\n",
    "flp_sales_source_data_df['diff_Qty'] = flp_sales_source_data_df['Qty'].diff()\n",
    "flp_sales_source_data_df['diff_Qty'] = flp_sales_source_data_df['diff_Qty'].apply(log_if_not_0)\n",
    "plt.hist(flp_sales_source_data_df['diff_Qty'],bins=100)"
   ]
  },
  {
   "cell_type": "code",
   "execution_count": 1556,
   "id": "34f8d5c2",
   "metadata": {
    "ExecuteTime": {
     "end_time": "2022-09-23T08:16:38.779815Z",
     "start_time": "2022-09-23T08:16:38.764819Z"
    }
   },
   "outputs": [
    {
     "data": {
      "text/plain": [
       "(array([95.,  0.,  0.,  0.,  0., 19.,  0.,  0.,  0.,  7.,  0.,  4.,  0.,\n",
       "         0.,  0.,  2.,  0.,  2.,  0.,  1.,  0.,  1.,  1.,  1.,  0.,  0.,\n",
       "         1.,  0.,  1.,  0.,  0.,  5.,  5.,  2.,  2.,  4.,  7.,  4.,  1.,\n",
       "         8.,  9.,  8.,  8., 11., 11., 13., 28., 24., 19., 22., 27., 36.,\n",
       "        43., 59., 59., 64., 54., 64., 56., 37., 24., 29., 22., 26., 25.,\n",
       "        20., 15., 13., 11., 10., 11.,  6.,  6.,  6.,  2.,  2.,  5.,  4.,\n",
       "         4.,  6.,  3.,  1.,  6.,  2.,  0.,  0.,  2.,  3.,  2.,  0.,  3.,\n",
       "         0.,  0.,  0.,  1.,  0.,  0.,  0.,  0.,  1.]),\n",
       " array([ 0.        ,  0.117546  ,  0.235092  ,  0.35263801,  0.47018401,\n",
       "         0.58773001,  0.70527601,  0.82282202,  0.94036802,  1.05791402,\n",
       "         1.17546002,  1.29300603,  1.41055203,  1.52809803,  1.64564403,\n",
       "         1.76319004,  1.88073604,  1.99828204,  2.11582804,  2.23337405,\n",
       "         2.35092005,  2.46846605,  2.58601205,  2.70355806,  2.82110406,\n",
       "         2.93865006,  3.05619606,  3.17374207,  3.29128807,  3.40883407,\n",
       "         3.52638007,  3.64392608,  3.76147208,  3.87901808,  3.99656408,\n",
       "         4.11411009,  4.23165609,  4.34920209,  4.46674809,  4.5842941 ,\n",
       "         4.7018401 ,  4.8193861 ,  4.9369321 ,  5.05447811,  5.17202411,\n",
       "         5.28957011,  5.40711611,  5.52466212,  5.64220812,  5.75975412,\n",
       "         5.87730012,  5.99484613,  6.11239213,  6.22993813,  6.34748413,\n",
       "         6.46503014,  6.58257614,  6.70012214,  6.81766814,  6.93521415,\n",
       "         7.05276015,  7.17030615,  7.28785215,  7.40539816,  7.52294416,\n",
       "         7.64049016,  7.75803616,  7.87558217,  7.99312817,  8.11067417,\n",
       "         8.22822017,  8.34576618,  8.46331218,  8.58085818,  8.69840418,\n",
       "         8.81595019,  8.93349619,  9.05104219,  9.16858819,  9.2861342 ,\n",
       "         9.4036802 ,  9.5212262 ,  9.6387722 ,  9.75631821,  9.87386421,\n",
       "         9.99141021, 10.10895621, 10.22650222, 10.34404822, 10.46159422,\n",
       "        10.57914022, 10.69668623, 10.81423223, 10.93177823, 11.04932423,\n",
       "        11.16687024, 11.28441624, 11.40196224, 11.51950824, 11.63705424,\n",
       "        11.75460025]),\n",
       " <BarContainer object of 100 artists>)"
      ]
     },
     "execution_count": 1556,
     "metadata": {},
     "output_type": "execute_result"
    },
    {
     "data": {
      "image/png": "[encoded data removed]",
      "text/plain": [
       "<Figure size 640x480 with 1 Axes>"
      ]
     },
     "metadata": {},
     "output_type": "display_data"
    }
   ],
   "source": [
    "flp_sales_source_data_df['log_Qty'] = flp_sales_source_data_df['Qty'].apply(lambda x:np.log(x+1))\n",
    "\n",
    "plt.hist(flp_sales_source_data_df['log_Qty'],bins=100)"
   ]
  },
  {
   "cell_type": "code",
   "execution_count": 1556,
   "id": "9b7bd5e5",
   "metadata": {},
   "outputs": [],
   "source": []
  },
  {
   "cell_type": "code",
   "execution_count": 1556,
   "id": "b3057adf",
   "metadata": {
    "ExecuteTime": {
     "end_time": "2022-09-23T08:16:38.933941Z",
     "start_time": "2022-09-23T08:16:38.780815Z"
    }
   },
   "outputs": [],
   "source": []
  },
  {
   "cell_type": "code",
   "execution_count": 1556,
   "id": "64e68fd6",
   "metadata": {},
   "outputs": [],
   "source": []
  },
  {
   "cell_type": "markdown",
   "id": "66bdd41b",
   "metadata": {},
   "source": [
    "### 自建特征"
   ]
  },
  {
   "cell_type": "code",
   "execution_count": 1557,
   "id": "72d4dc43",
   "metadata": {
    "ExecuteTime": {
     "end_time": "2022-09-23T08:16:38.964242Z",
     "start_time": "2022-09-23T08:16:38.935045Z"
    }
   },
   "outputs": [],
   "source": [
    "# 时间列展开\n",
    "flp_sales_source_data_df['Date'] = flp_sales_source_data_df['Date'].astype(str)\n",
    "flp_sales_source_data_df['Date'] = flp_sales_source_data_df['Date'].apply(lambda x:datetime.datetime.strptime(x,'%Y%m%d'))\n",
    "date_col_split(flp_sales_source_data_df,'Date')"
   ]
  },
  {
   "cell_type": "code",
   "execution_count": 1558,
   "id": "0757dae7",
   "metadata": {
    "ExecuteTime": {
     "end_time": "2022-09-23T08:16:38.980242Z",
     "start_time": "2022-09-23T08:16:38.965243Z"
    }
   },
   "outputs": [],
   "source": [
    "# def is_active_day(date,active_days_df):\n",
    "#     active_flag = 0\n",
    "#     first_order_day= 0\n",
    "#     S_level_flag = 0\n",
    "#     special_day= 0\n",
    "#     for index,row in active_days_df.iterrows():\n",
    "#         if date >= row['activityStart'] and date <= row['activityEnd']:\n",
    "#             active_flag = 1\n",
    "#             if row['activityFlag'] =='S':\n",
    "#                 S_level_flag = 1\n",
    "#         if row['ORDER_BY_TIME'].to_pydatetime().date() == date.to_pydatetime().date():\n",
    "#             first_order_day = 1\n",
    "#\n",
    "#     special_days = ['0308','0618','1111','1212']\n",
    "#     years = ['2019','2020','2021','2022']\n",
    "#     special_dates = []\n",
    "#     for year in years:\n",
    "#         for day in special_days:\n",
    "#             special_date = year+day\n",
    "#             special_timestamp = pd.to_datetime(special_date)\n",
    "#             special_dates.append(special_timestamp)\n",
    "#     if date in special_dates:\n",
    "#         active_flag = 1\n",
    "#         S_level_flag =1\n",
    "#         first_order_day=1\n",
    "#         special_day = 1\n",
    "#     return (active_flag,S_level_flag,first_order_day,special_day)"
   ]
  },
  {
   "cell_type": "code",
   "execution_count": 1559,
   "id": "1305ae87",
   "metadata": {
    "ExecuteTime": {
     "end_time": "2022-09-23T08:16:38.996261Z",
     "start_time": "2022-09-23T08:16:38.981242Z"
    }
   },
   "outputs": [],
   "source": [
    "# flp_sales_source_data_df['is_active'],flp_sales_source_data_df['is_S_level_active'],flp_sales_source_data_df['is_first_day_of_order'],flp_sales_source_data_df['is_special_day'] = zip(*flp_sales_source_data_df['Date'].apply(is_active_day,args=(active_days_df,)))"
   ]
  },
  {
   "cell_type": "markdown",
   "id": "ab7bab7a",
   "metadata": {},
   "source": [
    "## 特征工程"
   ]
  },
  {
   "cell_type": "code",
   "execution_count": 1560,
   "id": "ee7d72f9",
   "metadata": {
    "ExecuteTime": {
     "end_time": "2022-09-23T08:16:39.012440Z",
     "start_time": "2022-09-23T08:16:38.998383Z"
    }
   },
   "outputs": [
    {
     "data": {
      "text/html": [
       "<div>\n",
       "<style scoped>\n",
       "    .dataframe tbody tr th:only-of-type {\n",
       "        vertical-align: middle;\n",
       "    }\n",
       "\n",
       "    .dataframe tbody tr th {\n",
       "        vertical-align: top;\n",
       "    }\n",
       "\n",
       "    .dataframe thead th {\n",
       "        text-align: right;\n",
       "    }\n",
       "</style>\n",
       "<table border=\"1\" class=\"dataframe\">\n",
       "  <thead>\n",
       "    <tr style=\"text-align: right;\">\n",
       "      <th></th>\n",
       "      <th>Date</th>\n",
       "      <th>SKU</th>\n",
       "      <th>Store</th>\n",
       "      <th>Sales</th>\n",
       "      <th>Qty</th>\n",
       "      <th>ASP</th>\n",
       "      <th>客单价</th>\n",
       "      <th>Shopping Cart</th>\n",
       "      <th>宝贝名称</th>\n",
       "      <th>URL地址</th>\n",
       "      <th>活动强度</th>\n",
       "      <th>diff_Qty</th>\n",
       "      <th>log_Qty</th>\n",
       "      <th>year</th>\n",
       "      <th>month</th>\n",
       "      <th>day</th>\n",
       "      <th>week</th>\n",
       "      <th>quarter</th>\n",
       "      <th>day_of_week</th>\n",
       "    </tr>\n",
       "  </thead>\n",
       "  <tbody>\n",
       "    <tr>\n",
       "      <th>0</th>\n",
       "      <td>2019-01-01</td>\n",
       "      <td>0</td>\n",
       "      <td>0</td>\n",
       "      <td>222171</td>\n",
       "      <td>551</td>\n",
       "      <td>403.215064</td>\n",
       "      <td>447.025151</td>\n",
       "      <td>1652.0</td>\n",
       "      <td>0</td>\n",
       "      <td>0</td>\n",
       "      <td>2</td>\n",
       "      <td>NaN</td>\n",
       "      <td>6.313548</td>\n",
       "      <td>2019</td>\n",
       "      <td>1</td>\n",
       "      <td>1</td>\n",
       "      <td>1</td>\n",
       "      <td>1</td>\n",
       "      <td>2</td>\n",
       "    </tr>\n",
       "    <tr>\n",
       "      <th>1</th>\n",
       "      <td>2019-01-02</td>\n",
       "      <td>0</td>\n",
       "      <td>0</td>\n",
       "      <td>17736</td>\n",
       "      <td>44</td>\n",
       "      <td>403.090909</td>\n",
       "      <td>454.769231</td>\n",
       "      <td>1828.0</td>\n",
       "      <td>0</td>\n",
       "      <td>0</td>\n",
       "      <td>2</td>\n",
       "      <td>-6.228511</td>\n",
       "      <td>3.806662</td>\n",
       "      <td>2019</td>\n",
       "      <td>1</td>\n",
       "      <td>2</td>\n",
       "      <td>1</td>\n",
       "      <td>1</td>\n",
       "      <td>3</td>\n",
       "    </tr>\n",
       "    <tr>\n",
       "      <th>2</th>\n",
       "      <td>2019-01-03</td>\n",
       "      <td>0</td>\n",
       "      <td>0</td>\n",
       "      <td>451025</td>\n",
       "      <td>1132</td>\n",
       "      <td>398.432341</td>\n",
       "      <td>444.798235</td>\n",
       "      <td>2225.0</td>\n",
       "      <td>0</td>\n",
       "      <td>0</td>\n",
       "      <td>2</td>\n",
       "      <td>6.992096</td>\n",
       "      <td>7.032624</td>\n",
       "      <td>2019</td>\n",
       "      <td>1</td>\n",
       "      <td>3</td>\n",
       "      <td>1</td>\n",
       "      <td>1</td>\n",
       "      <td>4</td>\n",
       "    </tr>\n",
       "    <tr>\n",
       "      <th>3</th>\n",
       "      <td>2019-01-04</td>\n",
       "      <td>0</td>\n",
       "      <td>0</td>\n",
       "      <td>280162</td>\n",
       "      <td>703</td>\n",
       "      <td>398.524324</td>\n",
       "      <td>448.260160</td>\n",
       "      <td>1871.0</td>\n",
       "      <td>0</td>\n",
       "      <td>0</td>\n",
       "      <td>2</td>\n",
       "      <td>-6.061457</td>\n",
       "      <td>6.556778</td>\n",
       "      <td>2019</td>\n",
       "      <td>1</td>\n",
       "      <td>4</td>\n",
       "      <td>1</td>\n",
       "      <td>1</td>\n",
       "      <td>5</td>\n",
       "    </tr>\n",
       "    <tr>\n",
       "      <th>4</th>\n",
       "      <td>2019-01-05</td>\n",
       "      <td>0</td>\n",
       "      <td>0</td>\n",
       "      <td>195976</td>\n",
       "      <td>487</td>\n",
       "      <td>402.415934</td>\n",
       "      <td>437.447679</td>\n",
       "      <td>1768.0</td>\n",
       "      <td>0</td>\n",
       "      <td>0</td>\n",
       "      <td>2</td>\n",
       "      <td>-5.375278</td>\n",
       "      <td>6.190315</td>\n",
       "      <td>2019</td>\n",
       "      <td>1</td>\n",
       "      <td>5</td>\n",
       "      <td>1</td>\n",
       "      <td>1</td>\n",
       "      <td>6</td>\n",
       "    </tr>\n",
       "    <tr>\n",
       "      <th>...</th>\n",
       "      <td>...</td>\n",
       "      <td>...</td>\n",
       "      <td>...</td>\n",
       "      <td>...</td>\n",
       "      <td>...</td>\n",
       "      <td>...</td>\n",
       "      <td>...</td>\n",
       "      <td>...</td>\n",
       "      <td>...</td>\n",
       "      <td>...</td>\n",
       "      <td>...</td>\n",
       "      <td>...</td>\n",
       "      <td>...</td>\n",
       "      <td>...</td>\n",
       "      <td>...</td>\n",
       "      <td>...</td>\n",
       "      <td>...</td>\n",
       "      <td>...</td>\n",
       "      <td>...</td>\n",
       "    </tr>\n",
       "    <tr>\n",
       "      <th>1091</th>\n",
       "      <td>2021-12-27</td>\n",
       "      <td>0</td>\n",
       "      <td>0</td>\n",
       "      <td>163671</td>\n",
       "      <td>519</td>\n",
       "      <td>315.358382</td>\n",
       "      <td>353.501080</td>\n",
       "      <td>1330.0</td>\n",
       "      <td>362</td>\n",
       "      <td>1</td>\n",
       "      <td>2</td>\n",
       "      <td>4.442651</td>\n",
       "      <td>6.253829</td>\n",
       "      <td>2021</td>\n",
       "      <td>12</td>\n",
       "      <td>27</td>\n",
       "      <td>52</td>\n",
       "      <td>4</td>\n",
       "      <td>1</td>\n",
       "    </tr>\n",
       "    <tr>\n",
       "      <th>1092</th>\n",
       "      <td>2021-12-28</td>\n",
       "      <td>0</td>\n",
       "      <td>0</td>\n",
       "      <td>105364</td>\n",
       "      <td>336</td>\n",
       "      <td>313.583333</td>\n",
       "      <td>343.205212</td>\n",
       "      <td>1330.0</td>\n",
       "      <td>363</td>\n",
       "      <td>1</td>\n",
       "      <td>2</td>\n",
       "      <td>-5.209486</td>\n",
       "      <td>5.820083</td>\n",
       "      <td>2021</td>\n",
       "      <td>12</td>\n",
       "      <td>28</td>\n",
       "      <td>52</td>\n",
       "      <td>4</td>\n",
       "      <td>2</td>\n",
       "    </tr>\n",
       "    <tr>\n",
       "      <th>1093</th>\n",
       "      <td>2021-12-29</td>\n",
       "      <td>0</td>\n",
       "      <td>0</td>\n",
       "      <td>78347</td>\n",
       "      <td>253</td>\n",
       "      <td>309.671937</td>\n",
       "      <td>329.189076</td>\n",
       "      <td>1330.0</td>\n",
       "      <td>364</td>\n",
       "      <td>1</td>\n",
       "      <td>2</td>\n",
       "      <td>-4.418841</td>\n",
       "      <td>5.537334</td>\n",
       "      <td>2021</td>\n",
       "      <td>12</td>\n",
       "      <td>29</td>\n",
       "      <td>52</td>\n",
       "      <td>4</td>\n",
       "      <td>3</td>\n",
       "    </tr>\n",
       "    <tr>\n",
       "      <th>1094</th>\n",
       "      <td>2021-12-30</td>\n",
       "      <td>0</td>\n",
       "      <td>0</td>\n",
       "      <td>230168</td>\n",
       "      <td>726</td>\n",
       "      <td>317.036309</td>\n",
       "      <td>359.638062</td>\n",
       "      <td>1330.0</td>\n",
       "      <td>365</td>\n",
       "      <td>1</td>\n",
       "      <td>2</td>\n",
       "      <td>6.159095</td>\n",
       "      <td>6.588926</td>\n",
       "      <td>2021</td>\n",
       "      <td>12</td>\n",
       "      <td>30</td>\n",
       "      <td>52</td>\n",
       "      <td>4</td>\n",
       "      <td>4</td>\n",
       "    </tr>\n",
       "    <tr>\n",
       "      <th>1095</th>\n",
       "      <td>2021-12-31</td>\n",
       "      <td>0</td>\n",
       "      <td>0</td>\n",
       "      <td>190830</td>\n",
       "      <td>603</td>\n",
       "      <td>316.468259</td>\n",
       "      <td>348.867203</td>\n",
       "      <td>1330.0</td>\n",
       "      <td>366</td>\n",
       "      <td>1</td>\n",
       "      <td>2</td>\n",
       "      <td>-4.812184</td>\n",
       "      <td>6.403574</td>\n",
       "      <td>2021</td>\n",
       "      <td>12</td>\n",
       "      <td>31</td>\n",
       "      <td>52</td>\n",
       "      <td>4</td>\n",
       "      <td>5</td>\n",
       "    </tr>\n",
       "  </tbody>\n",
       "</table>\n",
       "<p>1096 rows × 19 columns</p>\n",
       "</div>"
      ],
      "text/plain": [
       "           Date  SKU  Store   Sales   Qty         ASP         客单价  \\\n",
       "0    2019-01-01    0      0  222171   551  403.215064  447.025151   \n",
       "1    2019-01-02    0      0   17736    44  403.090909  454.769231   \n",
       "2    2019-01-03    0      0  451025  1132  398.432341  444.798235   \n",
       "3    2019-01-04    0      0  280162   703  398.524324  448.260160   \n",
       "4    2019-01-05    0      0  195976   487  402.415934  437.447679   \n",
       "...         ...  ...    ...     ...   ...         ...         ...   \n",
       "1091 2021-12-27    0      0  163671   519  315.358382  353.501080   \n",
       "1092 2021-12-28    0      0  105364   336  313.583333  343.205212   \n",
       "1093 2021-12-29    0      0   78347   253  309.671937  329.189076   \n",
       "1094 2021-12-30    0      0  230168   726  317.036309  359.638062   \n",
       "1095 2021-12-31    0      0  190830   603  316.468259  348.867203   \n",
       "\n",
       "      Shopping Cart  宝贝名称  URL地址  活动强度  diff_Qty   log_Qty  year  month  day  \\\n",
       "0            1652.0     0      0     2       NaN  6.313548  2019      1    1   \n",
       "1            1828.0     0      0     2 -6.228511  3.806662  2019      1    2   \n",
       "2            2225.0     0      0     2  6.992096  7.032624  2019      1    3   \n",
       "3            1871.0     0      0     2 -6.061457  6.556778  2019      1    4   \n",
       "4            1768.0     0      0     2 -5.375278  6.190315  2019      1    5   \n",
       "...             ...   ...    ...   ...       ...       ...   ...    ...  ...   \n",
       "1091         1330.0   362      1     2  4.442651  6.253829  2021     12   27   \n",
       "1092         1330.0   363      1     2 -5.209486  5.820083  2021     12   28   \n",
       "1093         1330.0   364      1     2 -4.418841  5.537334  2021     12   29   \n",
       "1094         1330.0   365      1     2  6.159095  6.588926  2021     12   30   \n",
       "1095         1330.0   366      1     2 -4.812184  6.403574  2021     12   31   \n",
       "\n",
       "      week  quarter  day_of_week  \n",
       "0        1        1            2  \n",
       "1        1        1            3  \n",
       "2        1        1            4  \n",
       "3        1        1            5  \n",
       "4        1        1            6  \n",
       "...    ...      ...          ...  \n",
       "1091    52        4            1  \n",
       "1092    52        4            2  \n",
       "1093    52        4            3  \n",
       "1094    52        4            4  \n",
       "1095    52        4            5  \n",
       "\n",
       "[1096 rows x 19 columns]"
      ]
     },
     "execution_count": 1560,
     "metadata": {},
     "output_type": "execute_result"
    }
   ],
   "source": [
    "flp_sales_source_data_df"
   ]
  },
  {
   "cell_type": "code",
   "execution_count": 1561,
   "id": "b8774475",
   "metadata": {
    "ExecuteTime": {
     "end_time": "2022-09-23T08:16:39.027471Z",
     "start_time": "2022-09-23T08:16:39.016468Z"
    }
   },
   "outputs": [],
   "source": [
    "# flp_sales_source_data_df['前一天的销售金额'] = flp_sales_source_data_df['Sales'].shift(1)\n",
    "# flp_sales_source_data_df['前一天的销售金额'].fillna(flp_sales_source_data_df['前一天的销售金额'].mode()[0])\n",
    "# flp_sales_source_data_df['前一周的销售金额'] = flp_sales_source_data_df['Sales'].rolling(7).sum()\n",
    "# flp_sales_source_data_df['前十五天的销售金额'] = flp_sales_source_data_df['Sales'].rolling(15).sum()\n",
    "# flp_sales_source_data_df['前三十天的销售金额'] = flp_sales_source_data_df['Sales'].rolling(30).sum()\n",
    "# flp_sales_source_data_df['前一周的加购量'] = flp_sales_source_data_df['Shopping Cart'].rolling(7).sum()\n",
    "# flp_sales_source_data_df['前十五天的加购量'] = flp_sales_source_data_df['Shopping Cart'].rolling(15).sum()\n",
    "# flp_sales_source_data_df['前三十天的加购量'] = flp_sales_source_data_df['Shopping Cart'].rolling(30).sum()"
   ]
  },
  {
   "cell_type": "markdown",
   "id": "54d317dd",
   "metadata": {},
   "source": [
    "### 去除无用特征"
   ]
  },
  {
   "cell_type": "code",
   "execution_count": 1562,
   "id": "326b4630",
   "metadata": {
    "ExecuteTime": {
     "end_time": "2022-09-23T08:16:39.043225Z",
     "start_time": "2022-09-23T08:16:39.029225Z"
    }
   },
   "outputs": [],
   "source": [
    "features = flp_sales_source_data_df.columns.to_list()\n",
    "noise_features = ['Date','SKU','宝贝名称','Store','Sales','diff_Qty','URL地址','Salse','Qty','Shopping Cart','客单价', 'log_Qty','前一天的销售金额','前一周的销售金额','前一周的加购量','前十五天的销售金额',\n",
    "                  '前三十天的销售金额',\n",
    "                  '前十五天的加购量',\n",
    "                  '前三十天的加购量']\n",
    "features = [c for c in features if c not in noise_features]\n",
    "non_numeric_cols = [c for c in non_numeric_cols if c not in noise_features]"
   ]
  },
  {
   "cell_type": "code",
   "execution_count": 1563,
   "id": "935d2468",
   "metadata": {
    "ExecuteTime": {
     "end_time": "2022-09-23T08:16:39.059221Z",
     "start_time": "2022-09-23T08:16:39.045221Z"
    }
   },
   "outputs": [
    {
     "data": {
      "text/plain": [
       "['ASP', '活动强度', 'year', 'month', 'day', 'week', 'quarter', 'day_of_week']"
      ]
     },
     "execution_count": 1563,
     "metadata": {},
     "output_type": "execute_result"
    }
   ],
   "source": [
    "features"
   ]
  },
  {
   "cell_type": "code",
   "execution_count": 1564,
   "id": "37ee9c31",
   "metadata": {
    "ExecuteTime": {
     "end_time": "2022-09-23T08:16:39.075274Z",
     "start_time": "2022-09-23T08:16:39.061223Z"
    }
   },
   "outputs": [],
   "source": [
    "flp_sales_source_data_df.dropna(inplace=True)"
   ]
  },
  {
   "cell_type": "code",
   "execution_count": 1565,
   "id": "acf2062c",
   "metadata": {
    "ExecuteTime": {
     "end_time": "2022-09-23T08:16:39.090545Z",
     "start_time": "2022-09-23T08:16:39.077406Z"
    }
   },
   "outputs": [
    {
     "data": {
      "text/plain": [
       "Index(['Date', 'SKU', 'Store', 'Sales', 'Qty', 'ASP', '客单价', 'Shopping Cart',\n",
       "       '宝贝名称', 'URL地址', '活动强度', 'diff_Qty', 'log_Qty', 'year', 'month', 'day',\n",
       "       'week', 'quarter', 'day_of_week'],\n",
       "      dtype='object')"
      ]
     },
     "execution_count": 1565,
     "metadata": {},
     "output_type": "execute_result"
    }
   ],
   "source": [
    "flp_sales_source_data_df.columns"
   ]
  },
  {
   "cell_type": "markdown",
   "id": "20c351e7",
   "metadata": {},
   "source": [
    "### 去除全部大促信息"
   ]
  },
  {
   "cell_type": "code",
   "execution_count": 1566,
   "id": "b1b0a885",
   "metadata": {
    "ExecuteTime": {
     "end_time": "2022-09-23T08:16:39.105597Z",
     "start_time": "2022-09-23T08:16:39.092579Z"
    }
   },
   "outputs": [],
   "source": [
    "# flp_sales_source_data_df = flp_sales_source_data_df[flp_sales_source_data_df['活动强度']<=2]"
   ]
  },
  {
   "cell_type": "markdown",
   "id": "bf16abcd",
   "metadata": {},
   "source": [
    "### 开始建模"
   ]
  },
  {
   "cell_type": "code",
   "execution_count": 1567,
   "id": "6b2572b3",
   "metadata": {
    "ExecuteTime": {
     "end_time": "2022-09-23T08:16:39.151070Z",
     "start_time": "2022-09-23T08:16:39.137069Z"
    }
   },
   "outputs": [],
   "source": [
    "flp_train = flp_sales_source_data_df[flp_sales_source_data_df.index<1000].copy(deep=True)\n",
    "flp_test = flp_sales_source_data_df[flp_sales_source_data_df.index>=1000].copy(deep=True)\n",
    "\n",
    "\n",
    "ntrees = 8000\n",
    "params = {\n",
    "    'objective': 'reg:linear',\n",
    "    'booster': 'gbtree',\n",
    "    'subsample': 0.93,\n",
    "    'n_estimators': 25500,\n",
    "    'min_child_weight': 2,\n",
    "    'max_depth': 9,\n",
    "    'eta': 0.36,\n",
    "    'colsample_bytree': 1,\n",
    "    'silent':1,\n",
    "}"
   ]
  },
  {
   "cell_type": "code",
   "execution_count": 1568,
   "id": "d520802a",
   "metadata": {
    "ExecuteTime": {
     "end_time": "2022-09-23T08:16:39.183073Z",
     "start_time": "2022-09-23T08:16:39.168070Z"
    }
   },
   "outputs": [],
   "source": [
    "X_train = flp_train[features]\n",
    "X_test  = flp_test[features]\n",
    "\n",
    "Y_train = flp_train['Qty']\n",
    "Y_test = flp_test['Qty']"
   ]
  },
  {
   "cell_type": "code",
   "execution_count": 1569,
   "id": "eb0b4174",
   "metadata": {
    "ExecuteTime": {
     "end_time": "2022-09-23T08:16:39.199073Z",
     "start_time": "2022-09-23T08:16:39.185069Z"
    }
   },
   "outputs": [],
   "source": [
    "from sklearn.model_selection import RandomizedSearchCV as RCV"
   ]
  },
  {
   "cell_type": "code",
   "execution_count": 1570,
   "id": "03a7bab6",
   "metadata": {
    "ExecuteTime": {
     "end_time": "2022-09-23T08:16:39.215073Z",
     "start_time": "2022-09-23T08:16:39.201069Z"
    }
   },
   "outputs": [],
   "source": [
    "model = xgboost.XGBRegressor()"
   ]
  },
  {
   "cell_type": "markdown",
   "id": "12a8e1fd",
   "metadata": {},
   "source": [
    "## 网格搜索超参"
   ]
  },
  {
   "cell_type": "code",
   "execution_count": 1571,
   "id": "bedcf692",
   "metadata": {
    "ExecuteTime": {
     "end_time": "2022-09-23T08:16:39.231069Z",
     "start_time": "2022-09-23T08:16:39.216070Z"
    }
   },
   "outputs": [],
   "source": [
    "# param_space = {\"max_depth\": [i for i in range(3,10)],\n",
    "#               \"min_child_weight\" : [i for i in range(0,10)],\n",
    "#               \"n_estimators\": [i*500 for i in range(1,200,5)],\n",
    "#                'eta':[i/100.0 for i in range(1,50)],\n",
    "#                'subsample':[i/100.0 for i in range(50,100)],\n",
    "#     'colsample_bytree':[i/100.0 for i in range(50,100)]}\n",
    "#\n",
    "# X_train,X_test = model_selection.train_test_split(flp_train,test_size=0.1,random_state=12)\n",
    "# random_search = RCV(model,param_distributions=param_space,cv=3,verbose=10,n_jobs=-1)\n",
    "#\n",
    "# random_search.fit(X_train[features],np.log(X_train['Qty']+1))\n",
    "#\n",
    "#\n",
    "# cv_results = random_search.cv_results_\n",
    "# random_search.best_params_"
   ]
  },
  {
   "cell_type": "code",
   "execution_count": 1571,
   "id": "00776a09",
   "metadata": {},
   "outputs": [],
   "source": []
  },
  {
   "cell_type": "code",
   "execution_count": 1571,
   "id": "f712bd87",
   "metadata": {},
   "outputs": [],
   "source": []
  },
  {
   "cell_type": "code",
   "execution_count": 1572,
   "id": "e8e19360",
   "metadata": {
    "ExecuteTime": {
     "end_time": "2022-09-23T08:16:39.310599Z",
     "start_time": "2022-09-23T08:16:39.295599Z"
    }
   },
   "outputs": [
    {
     "data": {
      "text/plain": [
       "Index(['Date', 'SKU', 'Store', 'Sales', 'Qty', 'ASP', '客单价', 'Shopping Cart',\n",
       "       '宝贝名称', 'URL地址', '活动强度', 'diff_Qty', 'log_Qty', 'year', 'month', 'day',\n",
       "       'week', 'quarter', 'day_of_week'],\n",
       "      dtype='object')"
      ]
     },
     "execution_count": 1572,
     "metadata": {},
     "output_type": "execute_result"
    }
   ],
   "source": [
    "flp_train.columns"
   ]
  },
  {
   "cell_type": "code",
   "execution_count": 1573,
   "id": "e540fae5",
   "metadata": {
    "ExecuteTime": {
     "end_time": "2022-09-23T08:16:39.325753Z",
     "start_time": "2022-09-23T08:16:39.311599Z"
    }
   },
   "outputs": [],
   "source": [
    "# features = ['SKU','Store','ASP','活动强度','diff_Qty','year','month','day','week','quarter','day_of_week']"
   ]
  },
  {
   "cell_type": "code",
   "execution_count": 1574,
   "id": "47d48e2f",
   "metadata": {},
   "outputs": [],
   "source": [
    "# X_train,X_test = model_selection.train_test_split(flp_train,test_size=0.1,random_state=12)\n",
    "# dtrain = xgboost.DMatrix(X_train[features],X_train['Qty'])\n",
    "# dvalid = xgboost.DMatrix(X_test[features],X_test['Qty'])\n",
    "# watchlist = [(dvalid,'eavl'),(dtrain,'train')]\n",
    "# gbm = xgboost.train(best_param,dtrain,ntrees,evals=watchlist,early_stopping_rounds=100,verbose_eval=True)\n",
    "# train_pre = gbm.predict(xgboost.DMatrix(X_test[features]))\n",
    "# train_pre[train_pre<0] = 0"
   ]
  },
  {
   "cell_type": "code",
   "execution_count": 1575,
   "id": "3733c63c",
   "metadata": {},
   "outputs": [
    {
     "data": {
      "text/plain": [
       "{'objective': 'reg:linear',\n",
       " 'booster': 'gbtree',\n",
       " 'subsample': 0.93,\n",
       " 'n_estimators': 25500,\n",
       " 'min_child_weight': 2,\n",
       " 'max_depth': 9,\n",
       " 'eta': 0.36,\n",
       " 'colsample_bytree': 1,\n",
       " 'silent': 1}"
      ]
     },
     "execution_count": 1575,
     "metadata": {},
     "output_type": "execute_result"
    }
   ],
   "source": [
    "params"
   ]
  },
  {
   "cell_type": "code",
   "execution_count": 1576,
   "id": "459f43b4",
   "metadata": {
    "ExecuteTime": {
     "end_time": "2022-09-23T08:16:40.070492Z",
     "start_time": "2022-09-23T08:16:39.326756Z"
    }
   },
   "outputs": [
    {
     "name": "stdout",
     "output_type": "stream",
     "text": [
      "[18:22:58] WARNING: c:\\windows\\temp\\abs_557yfx631l\\croots\\recipe\\xgboost-split_1659548953302\\work\\src\\objective\\regression_obj.cu:188: reg:linear is now deprecated in favor of reg:squarederror.\n",
      "[18:22:58] WARNING: C:\\Windows\\Temp\\abs_557yfx631l\\croots\\recipe\\xgboost-split_1659548953302\\work\\src\\learner.cc:576: \n",
      "Parameters: { \"n_estimators\", \"silent\" } might not be used.\n",
      "\n",
      "  This could be a false alarm, with some parameters getting used by language bindings but\n",
      "  then being mistakenly passed down to XGBoost core, or some parameter actually being used\n",
      "  but getting flagged wrongly here. Please open an issue if you find any such cases.\n",
      "\n",
      "\n",
      "[0]\teavl-rmse:3.80856\ttrain-rmse:3.88382\n",
      "[1]\teavl-rmse:2.55063\ttrain-rmse:2.57195\n",
      "[2]\teavl-rmse:1.76072\ttrain-rmse:1.75214\n",
      "[3]\teavl-rmse:1.27052\ttrain-rmse:1.23089\n",
      "[4]\teavl-rmse:1.00334\ttrain-rmse:0.90509\n",
      "[5]\teavl-rmse:0.88230\ttrain-rmse:0.71057\n",
      "[6]\teavl-rmse:0.82581\ttrain-rmse:0.59958\n",
      "[7]\teavl-rmse:0.81545\ttrain-rmse:0.51909\n",
      "[8]\teavl-rmse:0.79234\ttrain-rmse:0.44662\n",
      "[9]\teavl-rmse:0.77394\ttrain-rmse:0.41006\n",
      "[10]\teavl-rmse:0.76093\ttrain-rmse:0.36651\n",
      "[11]\teavl-rmse:0.74799\ttrain-rmse:0.32237\n",
      "[12]\teavl-rmse:0.74267\ttrain-rmse:0.29130\n",
      "[13]\teavl-rmse:0.74718\ttrain-rmse:0.27972\n",
      "[14]\teavl-rmse:0.74403\ttrain-rmse:0.27529\n",
      "[15]\teavl-rmse:0.74580\ttrain-rmse:0.24259\n",
      "[16]\teavl-rmse:0.74906\ttrain-rmse:0.23348\n",
      "[17]\teavl-rmse:0.75392\ttrain-rmse:0.22086\n",
      "[18]\teavl-rmse:0.75042\ttrain-rmse:0.20548\n",
      "[19]\teavl-rmse:0.74953\ttrain-rmse:0.19699\n",
      "[20]\teavl-rmse:0.75502\ttrain-rmse:0.18423\n",
      "[21]\teavl-rmse:0.75439\ttrain-rmse:0.17033\n",
      "[22]\teavl-rmse:0.75016\ttrain-rmse:0.15680\n",
      "[23]\teavl-rmse:0.75053\ttrain-rmse:0.14794\n",
      "[24]\teavl-rmse:0.75298\ttrain-rmse:0.13794\n",
      "[25]\teavl-rmse:0.75580\ttrain-rmse:0.13531\n",
      "[26]\teavl-rmse:0.75539\ttrain-rmse:0.12231\n",
      "[27]\teavl-rmse:0.75874\ttrain-rmse:0.11500\n",
      "[28]\teavl-rmse:0.75508\ttrain-rmse:0.10498\n",
      "[29]\teavl-rmse:0.75839\ttrain-rmse:0.09464\n",
      "[30]\teavl-rmse:0.75863\ttrain-rmse:0.09181\n",
      "[31]\teavl-rmse:0.75845\ttrain-rmse:0.08912\n",
      "[32]\teavl-rmse:0.75969\ttrain-rmse:0.08285\n",
      "[33]\teavl-rmse:0.75475\ttrain-rmse:0.07702\n",
      "[34]\teavl-rmse:0.75479\ttrain-rmse:0.07483\n",
      "[35]\teavl-rmse:0.75539\ttrain-rmse:0.07139\n",
      "[36]\teavl-rmse:0.75372\ttrain-rmse:0.06844\n",
      "[37]\teavl-rmse:0.75412\ttrain-rmse:0.06311\n",
      "[38]\teavl-rmse:0.75465\ttrain-rmse:0.05737\n",
      "[39]\teavl-rmse:0.75480\ttrain-rmse:0.05581\n",
      "[40]\teavl-rmse:0.75516\ttrain-rmse:0.05342\n",
      "[41]\teavl-rmse:0.75456\ttrain-rmse:0.04909\n",
      "[42]\teavl-rmse:0.75452\ttrain-rmse:0.04842\n",
      "[43]\teavl-rmse:0.75405\ttrain-rmse:0.04252\n",
      "[44]\teavl-rmse:0.75753\ttrain-rmse:0.04039\n",
      "[45]\teavl-rmse:0.75774\ttrain-rmse:0.03706\n",
      "[46]\teavl-rmse:0.75713\ttrain-rmse:0.03606\n",
      "[47]\teavl-rmse:0.75799\ttrain-rmse:0.03435\n",
      "[48]\teavl-rmse:0.75677\ttrain-rmse:0.03280\n",
      "[49]\teavl-rmse:0.75632\ttrain-rmse:0.03128\n",
      "[50]\teavl-rmse:0.75669\ttrain-rmse:0.02849\n",
      "[51]\teavl-rmse:0.75692\ttrain-rmse:0.02658\n",
      "[52]\teavl-rmse:0.75650\ttrain-rmse:0.02558\n",
      "[53]\teavl-rmse:0.75706\ttrain-rmse:0.02456\n",
      "[54]\teavl-rmse:0.75723\ttrain-rmse:0.02289\n",
      "[55]\teavl-rmse:0.75785\ttrain-rmse:0.02176\n",
      "[56]\teavl-rmse:0.75821\ttrain-rmse:0.02074\n",
      "[57]\teavl-rmse:0.75874\ttrain-rmse:0.02000\n",
      "[58]\teavl-rmse:0.75865\ttrain-rmse:0.01972\n",
      "[59]\teavl-rmse:0.75909\ttrain-rmse:0.01860\n",
      "[60]\teavl-rmse:0.75867\ttrain-rmse:0.01739\n",
      "[61]\teavl-rmse:0.75867\ttrain-rmse:0.01666\n",
      "[62]\teavl-rmse:0.75934\ttrain-rmse:0.01577\n",
      "[63]\teavl-rmse:0.75963\ttrain-rmse:0.01535\n",
      "[64]\teavl-rmse:0.75949\ttrain-rmse:0.01514\n",
      "[65]\teavl-rmse:0.75962\ttrain-rmse:0.01411\n",
      "[66]\teavl-rmse:0.75990\ttrain-rmse:0.01361\n",
      "[67]\teavl-rmse:0.76014\ttrain-rmse:0.01302\n",
      "[68]\teavl-rmse:0.76012\ttrain-rmse:0.01271\n",
      "[69]\teavl-rmse:0.75990\ttrain-rmse:0.01226\n",
      "[70]\teavl-rmse:0.75978\ttrain-rmse:0.01175\n",
      "[71]\teavl-rmse:0.75977\ttrain-rmse:0.01156\n",
      "[72]\teavl-rmse:0.76003\ttrain-rmse:0.01111\n",
      "[73]\teavl-rmse:0.76002\ttrain-rmse:0.01027\n",
      "[74]\teavl-rmse:0.75969\ttrain-rmse:0.00963\n",
      "[75]\teavl-rmse:0.75939\ttrain-rmse:0.00890\n",
      "[76]\teavl-rmse:0.75933\ttrain-rmse:0.00856\n",
      "[77]\teavl-rmse:0.75932\ttrain-rmse:0.00830\n",
      "[78]\teavl-rmse:0.75912\ttrain-rmse:0.00796\n",
      "[79]\teavl-rmse:0.75918\ttrain-rmse:0.00746\n",
      "[80]\teavl-rmse:0.75917\ttrain-rmse:0.00707\n",
      "[81]\teavl-rmse:0.75923\ttrain-rmse:0.00667\n",
      "[82]\teavl-rmse:0.75931\ttrain-rmse:0.00625\n",
      "[83]\teavl-rmse:0.75931\ttrain-rmse:0.00595\n",
      "[84]\teavl-rmse:0.75936\ttrain-rmse:0.00566\n",
      "[85]\teavl-rmse:0.75947\ttrain-rmse:0.00541\n",
      "[86]\teavl-rmse:0.75932\ttrain-rmse:0.00509\n",
      "[87]\teavl-rmse:0.75930\ttrain-rmse:0.00504\n",
      "[88]\teavl-rmse:0.75948\ttrain-rmse:0.00463\n",
      "[89]\teavl-rmse:0.75958\ttrain-rmse:0.00445\n",
      "[90]\teavl-rmse:0.75956\ttrain-rmse:0.00433\n",
      "[91]\teavl-rmse:0.75947\ttrain-rmse:0.00414\n",
      "[92]\teavl-rmse:0.75951\ttrain-rmse:0.00393\n",
      "[93]\teavl-rmse:0.75953\ttrain-rmse:0.00384\n",
      "[94]\teavl-rmse:0.75952\ttrain-rmse:0.00363\n",
      "[95]\teavl-rmse:0.75963\ttrain-rmse:0.00344\n",
      "[96]\teavl-rmse:0.75969\ttrain-rmse:0.00331\n",
      "[97]\teavl-rmse:0.75969\ttrain-rmse:0.00315\n",
      "[98]\teavl-rmse:0.75965\ttrain-rmse:0.00303\n",
      "[99]\teavl-rmse:0.75964\ttrain-rmse:0.00291\n",
      "[100]\teavl-rmse:0.75964\ttrain-rmse:0.00279\n",
      "[101]\teavl-rmse:0.75965\ttrain-rmse:0.00269\n",
      "[102]\teavl-rmse:0.75967\ttrain-rmse:0.00260\n",
      "[103]\teavl-rmse:0.75965\ttrain-rmse:0.00250\n",
      "[104]\teavl-rmse:0.75964\ttrain-rmse:0.00240\n",
      "[105]\teavl-rmse:0.75963\ttrain-rmse:0.00234\n",
      "[106]\teavl-rmse:0.75964\ttrain-rmse:0.00231\n",
      "[107]\teavl-rmse:0.75965\ttrain-rmse:0.00216\n",
      "[108]\teavl-rmse:0.75965\ttrain-rmse:0.00203\n",
      "[109]\teavl-rmse:0.75961\ttrain-rmse:0.00193\n",
      "[110]\teavl-rmse:0.75962\ttrain-rmse:0.00184\n",
      "[111]\teavl-rmse:0.75964\ttrain-rmse:0.00168\n",
      "[112]\teavl-rmse:0.75967\ttrain-rmse:0.00161\n",
      "[113]\teavl-rmse:0.75967\ttrain-rmse:0.00154\n",
      "[114]\teavl-rmse:0.75969\ttrain-rmse:0.00141\n",
      "[115]\teavl-rmse:0.75972\ttrain-rmse:0.00134\n",
      "[116]\teavl-rmse:0.75968\ttrain-rmse:0.00122\n",
      "[117]\teavl-rmse:0.75969\ttrain-rmse:0.00118\n",
      "[118]\teavl-rmse:0.75969\ttrain-rmse:0.00118\n",
      "[119]\teavl-rmse:0.75969\ttrain-rmse:0.00118\n",
      "[120]\teavl-rmse:0.75969\ttrain-rmse:0.00114\n",
      "[121]\teavl-rmse:0.75969\ttrain-rmse:0.00114\n",
      "[122]\teavl-rmse:0.75968\ttrain-rmse:0.00113\n",
      "[123]\teavl-rmse:0.75968\ttrain-rmse:0.00113\n",
      "[124]\teavl-rmse:0.75971\ttrain-rmse:0.00109\n",
      "[125]\teavl-rmse:0.75971\ttrain-rmse:0.00109\n",
      "[126]\teavl-rmse:0.75972\ttrain-rmse:0.00105\n",
      "[127]\teavl-rmse:0.75972\ttrain-rmse:0.00104\n",
      "[128]\teavl-rmse:0.75972\ttrain-rmse:0.00104\n",
      "[129]\teavl-rmse:0.75972\ttrain-rmse:0.00104\n",
      "[130]\teavl-rmse:0.75972\ttrain-rmse:0.00104\n",
      "[131]\teavl-rmse:0.75972\ttrain-rmse:0.00104\n",
      "[132]\teavl-rmse:0.75972\ttrain-rmse:0.00104\n",
      "[133]\teavl-rmse:0.75972\ttrain-rmse:0.00103\n",
      "[134]\teavl-rmse:0.75972\ttrain-rmse:0.00103\n",
      "[135]\teavl-rmse:0.75972\ttrain-rmse:0.00103\n",
      "[136]\teavl-rmse:0.75972\ttrain-rmse:0.00101\n",
      "[137]\teavl-rmse:0.75972\ttrain-rmse:0.00101\n",
      "[138]\teavl-rmse:0.75972\ttrain-rmse:0.00101\n",
      "[139]\teavl-rmse:0.75972\ttrain-rmse:0.00101\n"
     ]
    },
    {
     "name": "stderr",
     "output_type": "stream",
     "text": [
      "D:\\workspace\\Anaconda3\\lib\\site-packages\\xgboost\\data.py:250: FutureWarning: pandas.Int64Index is deprecated and will be removed from pandas in a future version. Use pandas.Index with the appropriate dtype instead.\n",
      "  elif isinstance(data.columns, (pd.Int64Index, pd.RangeIndex)):\n",
      "D:\\workspace\\Anaconda3\\lib\\site-packages\\xgboost\\data.py:250: FutureWarning: pandas.Int64Index is deprecated and will be removed from pandas in a future version. Use pandas.Index with the appropriate dtype instead.\n",
      "  elif isinstance(data.columns, (pd.Int64Index, pd.RangeIndex)):\n"
     ]
    },
    {
     "name": "stdout",
     "output_type": "stream",
     "text": [
      "[140]\teavl-rmse:0.75972\ttrain-rmse:0.00101\n",
      "[141]\teavl-rmse:0.75972\ttrain-rmse:0.00101\n",
      "[142]\teavl-rmse:0.75972\ttrain-rmse:0.00101\n",
      "[143]\teavl-rmse:0.75972\ttrain-rmse:0.00101\n",
      "[144]\teavl-rmse:0.75972\ttrain-rmse:0.00101\n",
      "[145]\teavl-rmse:0.75972\ttrain-rmse:0.00101\n",
      "[146]\teavl-rmse:0.75972\ttrain-rmse:0.00101\n",
      "[147]\teavl-rmse:0.75972\ttrain-rmse:0.00101\n",
      "[148]\teavl-rmse:0.75972\ttrain-rmse:0.00101\n",
      "[149]\teavl-rmse:0.75972\ttrain-rmse:0.00101\n",
      "[150]\teavl-rmse:0.75972\ttrain-rmse:0.00101\n",
      "[151]\teavl-rmse:0.75972\ttrain-rmse:0.00101\n",
      "[152]\teavl-rmse:0.75972\ttrain-rmse:0.00101\n",
      "[153]\teavl-rmse:0.75973\ttrain-rmse:0.00098\n",
      "[154]\teavl-rmse:0.75973\ttrain-rmse:0.00098\n",
      "[155]\teavl-rmse:0.75973\ttrain-rmse:0.00098\n",
      "[156]\teavl-rmse:0.75973\ttrain-rmse:0.00098\n",
      "[157]\teavl-rmse:0.75973\ttrain-rmse:0.00098\n",
      "[158]\teavl-rmse:0.75973\ttrain-rmse:0.00098\n",
      "[159]\teavl-rmse:0.75973\ttrain-rmse:0.00098\n",
      "[160]\teavl-rmse:0.75973\ttrain-rmse:0.00098\n",
      "[161]\teavl-rmse:0.75973\ttrain-rmse:0.00098\n",
      "[162]\teavl-rmse:0.75972\ttrain-rmse:0.00098\n",
      "[163]\teavl-rmse:0.75972\ttrain-rmse:0.00098\n",
      "[164]\teavl-rmse:0.75972\ttrain-rmse:0.00098\n",
      "[165]\teavl-rmse:0.75972\ttrain-rmse:0.00098\n",
      "[166]\teavl-rmse:0.75972\ttrain-rmse:0.00098\n",
      "[167]\teavl-rmse:0.75972\ttrain-rmse:0.00098\n",
      "[168]\teavl-rmse:0.75972\ttrain-rmse:0.00098\n",
      "[169]\teavl-rmse:0.75972\ttrain-rmse:0.00098\n",
      "[170]\teavl-rmse:0.75972\ttrain-rmse:0.00098\n",
      "[171]\teavl-rmse:0.75972\ttrain-rmse:0.00098\n",
      "[172]\teavl-rmse:0.75972\ttrain-rmse:0.00098\n",
      "[173]\teavl-rmse:0.75972\ttrain-rmse:0.00098\n",
      "[174]\teavl-rmse:0.75972\ttrain-rmse:0.00098\n",
      "[175]\teavl-rmse:0.75972\ttrain-rmse:0.00098\n",
      "[176]\teavl-rmse:0.75972\ttrain-rmse:0.00098\n",
      "[177]\teavl-rmse:0.75972\ttrain-rmse:0.00098\n",
      "[178]\teavl-rmse:0.75972\ttrain-rmse:0.00098\n",
      "[179]\teavl-rmse:0.75972\ttrain-rmse:0.00098\n",
      "[180]\teavl-rmse:0.75972\ttrain-rmse:0.00097\n",
      "[181]\teavl-rmse:0.75972\ttrain-rmse:0.00097\n",
      "[182]\teavl-rmse:0.75977\ttrain-rmse:0.00092\n",
      "[183]\teavl-rmse:0.75977\ttrain-rmse:0.00092\n",
      "[184]\teavl-rmse:0.75977\ttrain-rmse:0.00092\n",
      "[185]\teavl-rmse:0.75977\ttrain-rmse:0.00092\n",
      "[186]\teavl-rmse:0.75977\ttrain-rmse:0.00092\n",
      "[187]\teavl-rmse:0.75977\ttrain-rmse:0.00092\n",
      "[188]\teavl-rmse:0.75977\ttrain-rmse:0.00092\n",
      "[189]\teavl-rmse:0.75977\ttrain-rmse:0.00092\n",
      "[190]\teavl-rmse:0.75976\ttrain-rmse:0.00092\n",
      "[191]\teavl-rmse:0.75976\ttrain-rmse:0.00092\n",
      "[192]\teavl-rmse:0.75976\ttrain-rmse:0.00092\n",
      "[193]\teavl-rmse:0.75976\ttrain-rmse:0.00092\n",
      "[194]\teavl-rmse:0.75976\ttrain-rmse:0.00092\n",
      "[195]\teavl-rmse:0.75976\ttrain-rmse:0.00092\n",
      "[196]\teavl-rmse:0.75976\ttrain-rmse:0.00092\n",
      "[197]\teavl-rmse:0.75976\ttrain-rmse:0.00092\n",
      "[198]\teavl-rmse:0.75976\ttrain-rmse:0.00092\n",
      "[199]\teavl-rmse:0.75976\ttrain-rmse:0.00092\n",
      "[200]\teavl-rmse:0.75976\ttrain-rmse:0.00092\n",
      "[201]\teavl-rmse:0.75976\ttrain-rmse:0.00092\n",
      "[202]\teavl-rmse:0.75976\ttrain-rmse:0.00092\n",
      "[203]\teavl-rmse:0.75976\ttrain-rmse:0.00092\n",
      "[204]\teavl-rmse:0.75976\ttrain-rmse:0.00092\n",
      "[205]\teavl-rmse:0.75976\ttrain-rmse:0.00092\n",
      "[206]\teavl-rmse:0.75975\ttrain-rmse:0.00090\n",
      "[207]\teavl-rmse:0.75975\ttrain-rmse:0.00090\n",
      "[208]\teavl-rmse:0.75975\ttrain-rmse:0.00090\n",
      "[209]\teavl-rmse:0.75975\ttrain-rmse:0.00090\n",
      "[210]\teavl-rmse:0.75975\ttrain-rmse:0.00090\n",
      "[211]\teavl-rmse:0.75975\ttrain-rmse:0.00090\n",
      "[212]\teavl-rmse:0.75975\ttrain-rmse:0.00090\n",
      "[213]\teavl-rmse:0.75975\ttrain-rmse:0.00090\n",
      "[214]\teavl-rmse:0.75975\ttrain-rmse:0.00090\n",
      "[215]\teavl-rmse:0.75975\ttrain-rmse:0.00090\n",
      "[216]\teavl-rmse:0.75975\ttrain-rmse:0.00090\n",
      "[217]\teavl-rmse:0.75975\ttrain-rmse:0.00090\n",
      "[218]\teavl-rmse:0.75975\ttrain-rmse:0.00090\n",
      "[219]\teavl-rmse:0.75975\ttrain-rmse:0.00090\n",
      "[220]\teavl-rmse:0.75975\ttrain-rmse:0.00090\n",
      "[221]\teavl-rmse:0.75975\ttrain-rmse:0.00090\n",
      "[222]\teavl-rmse:0.75975\ttrain-rmse:0.00090\n",
      "[223]\teavl-rmse:0.75975\ttrain-rmse:0.00090\n",
      "[224]\teavl-rmse:0.75975\ttrain-rmse:0.00090\n",
      "[225]\teavl-rmse:0.75975\ttrain-rmse:0.00090\n",
      "[226]\teavl-rmse:0.75975\ttrain-rmse:0.00090\n",
      "[227]\teavl-rmse:0.75975\ttrain-rmse:0.00090\n",
      "[228]\teavl-rmse:0.75975\ttrain-rmse:0.00090\n",
      "[229]\teavl-rmse:0.75975\ttrain-rmse:0.00090\n",
      "[230]\teavl-rmse:0.75975\ttrain-rmse:0.00090\n",
      "[231]\teavl-rmse:0.75975\ttrain-rmse:0.00090\n",
      "[232]\teavl-rmse:0.75975\ttrain-rmse:0.00090\n",
      "[233]\teavl-rmse:0.75975\ttrain-rmse:0.00090\n",
      "[234]\teavl-rmse:0.75975\ttrain-rmse:0.00090\n",
      "[235]\teavl-rmse:0.75975\ttrain-rmse:0.00090\n",
      "[236]\teavl-rmse:0.75975\ttrain-rmse:0.00090\n",
      "[237]\teavl-rmse:0.75975\ttrain-rmse:0.00090\n",
      "[238]\teavl-rmse:0.75975\ttrain-rmse:0.00090\n",
      "[239]\teavl-rmse:0.75975\ttrain-rmse:0.00090\n",
      "[240]\teavl-rmse:0.75975\ttrain-rmse:0.00090\n",
      "[241]\teavl-rmse:0.75975\ttrain-rmse:0.00090\n",
      "[242]\teavl-rmse:0.75975\ttrain-rmse:0.00090\n",
      "[243]\teavl-rmse:0.75975\ttrain-rmse:0.00090\n",
      "[244]\teavl-rmse:0.75975\ttrain-rmse:0.00090\n",
      "[245]\teavl-rmse:0.75975\ttrain-rmse:0.00090\n",
      "[246]\teavl-rmse:0.75975\ttrain-rmse:0.00090\n",
      "[247]\teavl-rmse:0.75975\ttrain-rmse:0.00090\n",
      "[248]\teavl-rmse:0.75975\ttrain-rmse:0.00090\n",
      "[249]\teavl-rmse:0.75975\ttrain-rmse:0.00090\n",
      "[250]\teavl-rmse:0.75975\ttrain-rmse:0.00090\n",
      "[251]\teavl-rmse:0.75975\ttrain-rmse:0.00090\n",
      "[252]\teavl-rmse:0.75975\ttrain-rmse:0.00090\n",
      "[253]\teavl-rmse:0.75975\ttrain-rmse:0.00090\n",
      "[254]\teavl-rmse:0.75975\ttrain-rmse:0.00090\n",
      "[255]\teavl-rmse:0.75975\ttrain-rmse:0.00090\n",
      "[256]\teavl-rmse:0.75975\ttrain-rmse:0.00090\n",
      "[257]\teavl-rmse:0.75975\ttrain-rmse:0.00090\n",
      "[258]\teavl-rmse:0.75975\ttrain-rmse:0.00090\n",
      "[259]\teavl-rmse:0.75975\ttrain-rmse:0.00090\n",
      "[260]\teavl-rmse:0.75975\ttrain-rmse:0.00090\n",
      "[261]\teavl-rmse:0.75975\ttrain-rmse:0.00090\n",
      "[262]\teavl-rmse:0.75975\ttrain-rmse:0.00090\n",
      "[263]\teavl-rmse:0.75975\ttrain-rmse:0.00090\n",
      "[264]\teavl-rmse:0.75975\ttrain-rmse:0.00090\n",
      "[265]\teavl-rmse:0.75975\ttrain-rmse:0.00090\n",
      "[266]\teavl-rmse:0.75975\ttrain-rmse:0.00090\n",
      "[267]\teavl-rmse:0.75975\ttrain-rmse:0.00090\n",
      "[268]\teavl-rmse:0.75975\ttrain-rmse:0.00090\n",
      "[269]\teavl-rmse:0.75975\ttrain-rmse:0.00090\n",
      "[270]\teavl-rmse:0.75975\ttrain-rmse:0.00090\n",
      "[271]\teavl-rmse:0.75975\ttrain-rmse:0.00090\n",
      "[272]\teavl-rmse:0.75975\ttrain-rmse:0.00090\n",
      "[273]\teavl-rmse:0.75975\ttrain-rmse:0.00090\n",
      "[274]\teavl-rmse:0.75975\ttrain-rmse:0.00090\n",
      "[275]\teavl-rmse:0.75975\ttrain-rmse:0.00090\n",
      "[276]\teavl-rmse:0.75975\ttrain-rmse:0.00090\n",
      "[277]\teavl-rmse:0.75975\ttrain-rmse:0.00090\n",
      "[278]\teavl-rmse:0.75975\ttrain-rmse:0.00090\n",
      "[279]\teavl-rmse:0.75975\ttrain-rmse:0.00090\n",
      "[280]\teavl-rmse:0.75975\ttrain-rmse:0.00090\n",
      "[281]\teavl-rmse:0.75975\ttrain-rmse:0.00090\n",
      "[282]\teavl-rmse:0.75975\ttrain-rmse:0.00090\n",
      "[283]\teavl-rmse:0.75975\ttrain-rmse:0.00090\n",
      "[284]\teavl-rmse:0.75975\ttrain-rmse:0.00090\n",
      "[285]\teavl-rmse:0.75975\ttrain-rmse:0.00090\n",
      "[286]\teavl-rmse:0.75975\ttrain-rmse:0.00090\n",
      "[287]\teavl-rmse:0.75975\ttrain-rmse:0.00090\n",
      "[288]\teavl-rmse:0.75975\ttrain-rmse:0.00090\n",
      "[289]\teavl-rmse:0.75975\ttrain-rmse:0.00090\n",
      "[290]\teavl-rmse:0.75975\ttrain-rmse:0.00090\n",
      "[291]\teavl-rmse:0.75975\ttrain-rmse:0.00090\n",
      "[292]\teavl-rmse:0.75975\ttrain-rmse:0.00090\n",
      "[293]\teavl-rmse:0.75975\ttrain-rmse:0.00090\n",
      "[294]\teavl-rmse:0.75975\ttrain-rmse:0.00090\n",
      "[295]\teavl-rmse:0.75975\ttrain-rmse:0.00090\n",
      "[296]\teavl-rmse:0.75975\ttrain-rmse:0.00090\n",
      "[297]\teavl-rmse:0.75975\ttrain-rmse:0.00090\n",
      "[298]\teavl-rmse:0.75975\ttrain-rmse:0.00090\n",
      "[299]\teavl-rmse:0.75975\ttrain-rmse:0.00090\n",
      "[300]\teavl-rmse:0.75975\ttrain-rmse:0.00090\n",
      "[301]\teavl-rmse:0.75975\ttrain-rmse:0.00090\n",
      "[302]\teavl-rmse:0.75975\ttrain-rmse:0.00090\n",
      "[303]\teavl-rmse:0.75975\ttrain-rmse:0.00090\n",
      "[304]\teavl-rmse:0.75975\ttrain-rmse:0.00090\n",
      "[305]\teavl-rmse:0.75975\ttrain-rmse:0.00090\n",
      "[306]\teavl-rmse:0.75975\ttrain-rmse:0.00090\n",
      "[307]\teavl-rmse:0.75975\ttrain-rmse:0.00090\n",
      "[308]\teavl-rmse:0.75975\ttrain-rmse:0.00090\n",
      "[309]\teavl-rmse:0.75975\ttrain-rmse:0.00090\n",
      "[310]\teavl-rmse:0.75975\ttrain-rmse:0.00090\n",
      "[311]\teavl-rmse:0.75975\ttrain-rmse:0.00090\n",
      "[312]\teavl-rmse:0.75975\ttrain-rmse:0.00090\n",
      "[313]\teavl-rmse:0.75975\ttrain-rmse:0.00090\n",
      "[314]\teavl-rmse:0.75975\ttrain-rmse:0.00090\n",
      "[315]\teavl-rmse:0.75975\ttrain-rmse:0.00090\n",
      "[316]\teavl-rmse:0.75975\ttrain-rmse:0.00090\n",
      "[317]\teavl-rmse:0.75975\ttrain-rmse:0.00090\n",
      "[318]\teavl-rmse:0.75975\ttrain-rmse:0.00090\n",
      "[319]\teavl-rmse:0.75975\ttrain-rmse:0.00090\n",
      "[320]\teavl-rmse:0.75975\ttrain-rmse:0.00090\n",
      "[321]\teavl-rmse:0.75975\ttrain-rmse:0.00090\n",
      "[322]\teavl-rmse:0.75975\ttrain-rmse:0.00090\n",
      "[323]\teavl-rmse:0.75975\ttrain-rmse:0.00090\n",
      "[324]\teavl-rmse:0.75975\ttrain-rmse:0.00090\n",
      "[325]\teavl-rmse:0.75975\ttrain-rmse:0.00090\n",
      "[326]\teavl-rmse:0.75975\ttrain-rmse:0.00090\n",
      "[327]\teavl-rmse:0.75975\ttrain-rmse:0.00090\n",
      "[328]\teavl-rmse:0.75975\ttrain-rmse:0.00090\n",
      "[329]\teavl-rmse:0.75975\ttrain-rmse:0.00090\n",
      "[330]\teavl-rmse:0.75975\ttrain-rmse:0.00090\n",
      "[331]\teavl-rmse:0.75975\ttrain-rmse:0.00090\n",
      "[332]\teavl-rmse:0.75975\ttrain-rmse:0.00090\n",
      "[333]\teavl-rmse:0.75975\ttrain-rmse:0.00090\n",
      "[334]\teavl-rmse:0.75975\ttrain-rmse:0.00090\n",
      "[335]\teavl-rmse:0.75975\ttrain-rmse:0.00090\n",
      "[336]\teavl-rmse:0.75975\ttrain-rmse:0.00090\n",
      "[337]\teavl-rmse:0.75975\ttrain-rmse:0.00090\n",
      "[338]\teavl-rmse:0.75975\ttrain-rmse:0.00090\n",
      "[339]\teavl-rmse:0.75975\ttrain-rmse:0.00090\n",
      "[340]\teavl-rmse:0.75975\ttrain-rmse:0.00090\n",
      "[341]\teavl-rmse:0.75975\ttrain-rmse:0.00090\n",
      "[342]\teavl-rmse:0.75975\ttrain-rmse:0.00090\n",
      "[343]\teavl-rmse:0.75975\ttrain-rmse:0.00090\n",
      "[344]\teavl-rmse:0.75975\ttrain-rmse:0.00090\n",
      "[345]\teavl-rmse:0.75975\ttrain-rmse:0.00090\n",
      "[346]\teavl-rmse:0.75975\ttrain-rmse:0.00090\n",
      "[347]\teavl-rmse:0.75973\ttrain-rmse:0.00089\n",
      "[348]\teavl-rmse:0.75973\ttrain-rmse:0.00089\n",
      "[349]\teavl-rmse:0.75973\ttrain-rmse:0.00089\n",
      "[350]\teavl-rmse:0.75973\ttrain-rmse:0.00089\n",
      "[351]\teavl-rmse:0.75973\ttrain-rmse:0.00089\n",
      "[352]\teavl-rmse:0.75973\ttrain-rmse:0.00089\n",
      "[353]\teavl-rmse:0.75974\ttrain-rmse:0.00089\n",
      "[354]\teavl-rmse:0.75974\ttrain-rmse:0.00089\n",
      "[355]\teavl-rmse:0.75974\ttrain-rmse:0.00089\n",
      "[356]\teavl-rmse:0.75974\ttrain-rmse:0.00089\n",
      "[357]\teavl-rmse:0.75974\ttrain-rmse:0.00089\n",
      "[358]\teavl-rmse:0.75974\ttrain-rmse:0.00089\n",
      "[359]\teavl-rmse:0.75974\ttrain-rmse:0.00089\n",
      "[360]\teavl-rmse:0.75974\ttrain-rmse:0.00089\n",
      "[361]\teavl-rmse:0.75974\ttrain-rmse:0.00089\n",
      "[362]\teavl-rmse:0.75974\ttrain-rmse:0.00089\n",
      "[363]\teavl-rmse:0.75974\ttrain-rmse:0.00089\n",
      "[364]\teavl-rmse:0.75974\ttrain-rmse:0.00089\n",
      "[365]\teavl-rmse:0.75974\ttrain-rmse:0.00089\n",
      "[366]\teavl-rmse:0.75974\ttrain-rmse:0.00089\n",
      "[367]\teavl-rmse:0.75974\ttrain-rmse:0.00089\n",
      "[368]\teavl-rmse:0.75974\ttrain-rmse:0.00089\n",
      "[369]\teavl-rmse:0.75974\ttrain-rmse:0.00089\n",
      "[370]\teavl-rmse:0.75974\ttrain-rmse:0.00089\n",
      "[371]\teavl-rmse:0.75974\ttrain-rmse:0.00089\n",
      "[372]\teavl-rmse:0.75974\ttrain-rmse:0.00089\n",
      "[373]\teavl-rmse:0.75974\ttrain-rmse:0.00089\n",
      "[374]\teavl-rmse:0.75974\ttrain-rmse:0.00089\n",
      "[375]\teavl-rmse:0.75974\ttrain-rmse:0.00089\n",
      "[376]\teavl-rmse:0.75974\ttrain-rmse:0.00089\n",
      "[377]\teavl-rmse:0.75974\ttrain-rmse:0.00089\n",
      "[378]\teavl-rmse:0.75974\ttrain-rmse:0.00089\n",
      "[379]\teavl-rmse:0.75974\ttrain-rmse:0.00089\n",
      "[380]\teavl-rmse:0.75974\ttrain-rmse:0.00089\n",
      "[381]\teavl-rmse:0.75974\ttrain-rmse:0.00089\n",
      "[382]\teavl-rmse:0.75974\ttrain-rmse:0.00089\n",
      "[383]\teavl-rmse:0.75974\ttrain-rmse:0.00089\n",
      "[384]\teavl-rmse:0.75974\ttrain-rmse:0.00089\n",
      "[385]\teavl-rmse:0.75974\ttrain-rmse:0.00089\n",
      "[386]\teavl-rmse:0.75974\ttrain-rmse:0.00089\n",
      "[387]\teavl-rmse:0.75974\ttrain-rmse:0.00089\n",
      "[388]\teavl-rmse:0.75974\ttrain-rmse:0.00089\n",
      "[389]\teavl-rmse:0.75974\ttrain-rmse:0.00089\n",
      "[390]\teavl-rmse:0.75974\ttrain-rmse:0.00089\n",
      "[391]\teavl-rmse:0.75974\ttrain-rmse:0.00089\n",
      "[392]\teavl-rmse:0.75974\ttrain-rmse:0.00089\n",
      "[393]\teavl-rmse:0.75974\ttrain-rmse:0.00089\n",
      "[394]\teavl-rmse:0.75974\ttrain-rmse:0.00089\n",
      "[395]\teavl-rmse:0.75974\ttrain-rmse:0.00089\n",
      "[396]\teavl-rmse:0.75974\ttrain-rmse:0.00089\n",
      "[397]\teavl-rmse:0.75974\ttrain-rmse:0.00089\n",
      "[398]\teavl-rmse:0.75974\ttrain-rmse:0.00089\n",
      "[399]\teavl-rmse:0.75974\ttrain-rmse:0.00089\n",
      "[400]\teavl-rmse:0.75974\ttrain-rmse:0.00089\n",
      "[401]\teavl-rmse:0.75974\ttrain-rmse:0.00089\n",
      "[402]\teavl-rmse:0.75974\ttrain-rmse:0.00089\n",
      "[403]\teavl-rmse:0.75974\ttrain-rmse:0.00089\n",
      "[404]\teavl-rmse:0.75974\ttrain-rmse:0.00089\n",
      "[405]\teavl-rmse:0.75974\ttrain-rmse:0.00089\n",
      "[406]\teavl-rmse:0.75974\ttrain-rmse:0.00089\n",
      "[407]\teavl-rmse:0.75974\ttrain-rmse:0.00089\n",
      "[408]\teavl-rmse:0.75974\ttrain-rmse:0.00089\n",
      "[409]\teavl-rmse:0.75974\ttrain-rmse:0.00089\n",
      "[410]\teavl-rmse:0.75974\ttrain-rmse:0.00089\n",
      "[411]\teavl-rmse:0.75974\ttrain-rmse:0.00089\n",
      "[412]\teavl-rmse:0.75974\ttrain-rmse:0.00089\n",
      "[413]\teavl-rmse:0.75974\ttrain-rmse:0.00089\n",
      "[414]\teavl-rmse:0.75974\ttrain-rmse:0.00089\n",
      "[415]\teavl-rmse:0.75974\ttrain-rmse:0.00089\n",
      "[416]\teavl-rmse:0.75974\ttrain-rmse:0.00089\n",
      "[417]\teavl-rmse:0.75974\ttrain-rmse:0.00089\n",
      "[418]\teavl-rmse:0.75974\ttrain-rmse:0.00089\n",
      "[419]\teavl-rmse:0.75974\ttrain-rmse:0.00089\n",
      "[420]\teavl-rmse:0.75974\ttrain-rmse:0.00089\n",
      "[421]\teavl-rmse:0.75974\ttrain-rmse:0.00089\n",
      "[422]\teavl-rmse:0.75974\ttrain-rmse:0.00089\n",
      "[423]\teavl-rmse:0.75974\ttrain-rmse:0.00089\n",
      "[424]\teavl-rmse:0.75974\ttrain-rmse:0.00089\n",
      "[425]\teavl-rmse:0.75974\ttrain-rmse:0.00089\n",
      "[426]\teavl-rmse:0.75974\ttrain-rmse:0.00089\n",
      "[427]\teavl-rmse:0.75974\ttrain-rmse:0.00089\n",
      "[428]\teavl-rmse:0.75974\ttrain-rmse:0.00089\n",
      "[429]\teavl-rmse:0.75974\ttrain-rmse:0.00089\n",
      "[430]\teavl-rmse:0.75974\ttrain-rmse:0.00089\n",
      "[431]\teavl-rmse:0.75974\ttrain-rmse:0.00089\n",
      "[432]\teavl-rmse:0.75974\ttrain-rmse:0.00089\n",
      "[433]\teavl-rmse:0.75974\ttrain-rmse:0.00089\n",
      "[434]\teavl-rmse:0.75974\ttrain-rmse:0.00089\n",
      "[435]\teavl-rmse:0.75974\ttrain-rmse:0.00089\n",
      "[436]\teavl-rmse:0.75974\ttrain-rmse:0.00089\n",
      "[437]\teavl-rmse:0.75974\ttrain-rmse:0.00089\n",
      "[438]\teavl-rmse:0.75974\ttrain-rmse:0.00089\n",
      "[439]\teavl-rmse:0.75974\ttrain-rmse:0.00089\n",
      "[440]\teavl-rmse:0.75974\ttrain-rmse:0.00089\n",
      "[441]\teavl-rmse:0.75974\ttrain-rmse:0.00089\n",
      "[442]\teavl-rmse:0.75974\ttrain-rmse:0.00089\n",
      "[443]\teavl-rmse:0.75974\ttrain-rmse:0.00089\n",
      "[444]\teavl-rmse:0.75974\ttrain-rmse:0.00089\n",
      "[445]\teavl-rmse:0.75974\ttrain-rmse:0.00089\n",
      "[446]\teavl-rmse:0.75974\ttrain-rmse:0.00089\n",
      "[447]\teavl-rmse:0.75974\ttrain-rmse:0.00089\n"
     ]
    },
    {
     "name": "stderr",
     "output_type": "stream",
     "text": [
      "D:\\workspace\\Anaconda3\\lib\\site-packages\\xgboost\\data.py:250: FutureWarning: pandas.Int64Index is deprecated and will be removed from pandas in a future version. Use pandas.Index with the appropriate dtype instead.\n",
      "  elif isinstance(data.columns, (pd.Int64Index, pd.RangeIndex)):\n"
     ]
    }
   ],
   "source": [
    "X_train,X_test = model_selection.train_test_split(flp_train,test_size=0.1,random_state=12)\n",
    "dtrain = xgboost.DMatrix(X_train[features],np.log(X_train['Qty']+1))\n",
    "dvalid = xgboost.DMatrix(X_test[features],np.log(X_test['Qty']+1))\n",
    "watchlist = [(dvalid,'eavl'),(dtrain,'train')]\n",
    "gbm = xgboost.train(params,dtrain,ntrees,evals=watchlist,early_stopping_rounds=100,verbose_eval=True)\n",
    "train_pre = gbm.predict(xgboost.DMatrix(X_test[features]))\n",
    "indices = train_pre<0\n",
    "train_pre[indices] = 0"
   ]
  },
  {
   "cell_type": "code",
   "execution_count": 1577,
   "id": "37232d81",
   "metadata": {},
   "outputs": [],
   "source": [
    "train_pre_data_list  =[np.exp(x)+1 for x in train_pre]\n",
    "train_real_data_list = X_test['Qty']"
   ]
  },
  {
   "cell_type": "code",
   "execution_count": 1577,
   "id": "9762f9a8",
   "metadata": {},
   "outputs": [],
   "source": []
  },
  {
   "cell_type": "code",
   "execution_count": 1578,
   "id": "71135f97",
   "metadata": {},
   "outputs": [],
   "source": [
    "# train_pre_data_list  =train_pre\n",
    "# train_real_data_list = X_test['Qty']"
   ]
  },
  {
   "cell_type": "code",
   "execution_count": 1579,
   "id": "c1aafd13",
   "metadata": {},
   "outputs": [],
   "source": [
    "error_df = pd.DataFrame(zip(train_real_data_list,train_pre_data_list))\n",
    "error_df.columns=['实际值','预测值']"
   ]
  },
  {
   "cell_type": "code",
   "execution_count": 1580,
   "id": "97d29d82",
   "metadata": {
    "ExecuteTime": {
     "end_time": "2022-09-23T08:16:40.132729Z",
     "start_time": "2022-09-23T08:16:40.119676Z"
    }
   },
   "outputs": [
    {
     "name": "stdout",
     "output_type": "stream",
     "text": [
      "剔除了14.0%的无实际意义数据\n"
     ]
    }
   ],
   "source": [
    "#剔除无实际意义的行(及销量和预测销量均小于30的行)\n",
    "original_length = error_df.shape[0]\n",
    "error_df = error_df[(error_df['实际值']>30) &  (error_df['预测值']>30)]\n",
    "reject_length = error_df.shape[0]\n",
    "reject_radio  = round(((original_length - reject_length)/original_length)*100,2)\n",
    "print(f'剔除了{reject_radio}%的无实际意义数据')"
   ]
  },
  {
   "cell_type": "markdown",
   "id": "b32f3d41",
   "metadata": {},
   "source": [
    "## 平均每天销量预测偏差"
   ]
  },
  {
   "cell_type": "code",
   "execution_count": 1581,
   "id": "e443ab97",
   "metadata": {},
   "outputs": [
    {
     "data": {
      "text/plain": [
       "479.51466518878937"
      ]
     },
     "execution_count": 1581,
     "metadata": {},
     "output_type": "execute_result"
    }
   ],
   "source": [
    "MAE(train_pre_data_list,train_real_data_list)"
   ]
  },
  {
   "cell_type": "markdown",
   "id": "acce9ef2",
   "metadata": {},
   "source": [
    "## 平均每天销量预测准确率"
   ]
  },
  {
   "cell_type": "code",
   "execution_count": 1582,
   "id": "aa379a0d",
   "metadata": {},
   "outputs": [
    {
     "data": {
      "text/plain": [
       "65.35922366486228"
      ]
     },
     "execution_count": 1582,
     "metadata": {},
     "output_type": "execute_result"
    }
   ],
   "source": [
    "(1-(abs(error_df['实际值'] - error_df['预测值'])/error_df['实际值']).mean())*100"
   ]
  },
  {
   "cell_type": "markdown",
   "id": "362edaba",
   "metadata": {},
   "source": [
    "## 整体预测准确率率"
   ]
  },
  {
   "cell_type": "code",
   "execution_count": 1583,
   "id": "ca8d8981",
   "metadata": {},
   "outputs": [
    {
     "data": {
      "text/plain": [
       "99.4145934861804"
      ]
     },
     "execution_count": 1583,
     "metadata": {},
     "output_type": "execute_result"
    }
   ],
   "source": [
    "(1-(abs(error_df['实际值'].sum()-error_df['预测值'].sum()))/error_df['实际值'].sum())*100"
   ]
  },
  {
   "cell_type": "code",
   "execution_count": 1584,
   "id": "fd35b786",
   "metadata": {
    "ExecuteTime": {
     "end_time": "2022-09-23T08:16:40.258446Z",
     "start_time": "2022-09-23T08:16:40.165923Z"
    }
   },
   "outputs": [
    {
     "data": {
      "image/png": "[encoded data removed]",
      "text/plain": [
       "<Figure size 640x480 with 1 Axes>"
      ]
     },
     "metadata": {},
     "output_type": "display_data"
    }
   ],
   "source": [
    "plt.rcParams['font.sans-serif'] = ['SimHei']\n",
    "plt.rcParams['axes.unicode_minus'] = False\n",
    "\n",
    "error_df.plot()\n",
    "plt.title('验证集预测效果')\n",
    "plt.show()"
   ]
  },
  {
   "cell_type": "markdown",
   "id": "431f897c",
   "metadata": {},
   "source": [
    "### 测试集计算"
   ]
  },
  {
   "cell_type": "code",
   "execution_count": 1585,
   "id": "c4a731d0",
   "metadata": {
    "ExecuteTime": {
     "end_time": "2022-09-23T08:16:40.337099Z",
     "start_time": "2022-09-23T08:16:40.323583Z"
    }
   },
   "outputs": [
    {
     "name": "stderr",
     "output_type": "stream",
     "text": [
      "D:\\workspace\\Anaconda3\\lib\\site-packages\\xgboost\\data.py:250: FutureWarning: pandas.Int64Index is deprecated and will be removed from pandas in a future version. Use pandas.Index with the appropriate dtype instead.\n",
      "  elif isinstance(data.columns, (pd.Int64Index, pd.RangeIndex)):\n"
     ]
    }
   ],
   "source": [
    "test_pre = gbm.predict(xgboost.DMatrix(flp_test[features]))\n",
    "test_pre[test_pre<0] = 0"
   ]
  },
  {
   "cell_type": "code",
   "execution_count": 1586,
   "id": "ef2f83bd",
   "metadata": {},
   "outputs": [],
   "source": [
    "test_pre_data_list  =[np.exp(x)+1 for x in test_pre]\n",
    "test_real_data_list = flp_test['Qty']"
   ]
  },
  {
   "cell_type": "code",
   "execution_count": 1587,
   "id": "d37b2e01",
   "metadata": {},
   "outputs": [],
   "source": [
    "# test_pre_data_list  =test_pre\n",
    "# test_real_data_list = flp_test['Qty']"
   ]
  },
  {
   "cell_type": "code",
   "execution_count": 1588,
   "id": "78949d56",
   "metadata": {
    "ExecuteTime": {
     "end_time": "2022-09-23T08:16:40.399320Z",
     "start_time": "2022-09-23T08:16:40.385943Z"
    }
   },
   "outputs": [],
   "source": [
    "new_error_df = pd.DataFrame(zip(test_real_data_list,test_pre_data_list))\n",
    "new_error_df.columns=['实际值','预测值']\n",
    "new_error_df['实际值'] = new_error_df['实际值'].astype(int)\n",
    "new_error_df['预测值'] = new_error_df['预测值'].astype(int)\n",
    "new_error_df.index=range(1000,1096)"
   ]
  },
  {
   "cell_type": "code",
   "execution_count": 1589,
   "id": "70a55cda",
   "metadata": {},
   "outputs": [
    {
     "name": "stdout",
     "output_type": "stream",
     "text": [
      "剔除了13.54%的无实际意义数据\n"
     ]
    }
   ],
   "source": [
    "#剔除无实际意义的行(及销量和预测销量均小于30的行)\n",
    "original_length = new_error_df.shape[0]\n",
    "new_error_df = new_error_df[(new_error_df['实际值']>30) &  (new_error_df['预测值']>30)]\n",
    "reject_length = new_error_df.shape[0]\n",
    "reject_radio  = round(((original_length - reject_length)/original_length)*100,2)\n",
    "print(f'剔除了{reject_radio}%的无实际意义数据')"
   ]
  },
  {
   "cell_type": "markdown",
   "id": "37e0f373",
   "metadata": {},
   "source": [
    "## 平均每天销量预测偏差"
   ]
  },
  {
   "cell_type": "code",
   "execution_count": 1590,
   "id": "8b36ab2f",
   "metadata": {},
   "outputs": [
    {
     "data": {
      "text/plain": [
       "285.3630970356365"
      ]
     },
     "execution_count": 1590,
     "metadata": {},
     "output_type": "execute_result"
    }
   ],
   "source": [
    "MAE(test_real_data_list,test_pre_data_list)"
   ]
  },
  {
   "cell_type": "markdown",
   "id": "a8ebf082",
   "metadata": {},
   "source": [
    "## 平均每天销量预测准确率"
   ]
  },
  {
   "cell_type": "code",
   "execution_count": 1591,
   "id": "3c73b425",
   "metadata": {},
   "outputs": [
    {
     "data": {
      "text/plain": [
       "58.10760405555301"
      ]
     },
     "execution_count": 1591,
     "metadata": {},
     "output_type": "execute_result"
    }
   ],
   "source": [
    "(1-(abs(new_error_df['实际值'] - new_error_df['预测值'])/new_error_df['实际值']).mean())*100"
   ]
  },
  {
   "cell_type": "markdown",
   "id": "3f12ad9c",
   "metadata": {},
   "source": [
    "## 整体预测准确率率"
   ]
  },
  {
   "cell_type": "code",
   "execution_count": 1592,
   "id": "a175dbb5",
   "metadata": {},
   "outputs": [
    {
     "data": {
      "text/plain": [
       "97.23623733025916"
      ]
     },
     "execution_count": 1592,
     "metadata": {},
     "output_type": "execute_result"
    }
   ],
   "source": [
    "(1-(abs(new_error_df['实际值'].sum()-new_error_df['预测值'].sum()))/new_error_df['实际值'].sum())*100"
   ]
  },
  {
   "cell_type": "code",
   "execution_count": 1593,
   "id": "fc78b6e5",
   "metadata": {
    "ExecuteTime": {
     "end_time": "2022-09-23T08:16:40.510300Z",
     "start_time": "2022-09-23T08:16:40.400821Z"
    }
   },
   "outputs": [
    {
     "data": {
      "image/png": "[encoded data removed]",
      "text/plain": [
       "<Figure size 640x480 with 1 Axes>"
      ]
     },
     "metadata": {},
     "output_type": "display_data"
    }
   ],
   "source": [
    "new_error_df.plot()\n",
    "plt.title('测试集预测效果')\n",
    "plt.show()"
   ]
  },
  {
   "cell_type": "code",
   "execution_count": 1594,
   "id": "cb4bc2e1",
   "metadata": {},
   "outputs": [],
   "source": [
    "new_error_df['差异'] = abs(new_error_df['预测值']-new_error_df['实际值'])\n",
    "\n",
    "new_error_df['差异率'] = abs(new_error_df['预测值']-new_error_df['实际值'])/new_error_df['实际值']"
   ]
  },
  {
   "cell_type": "code",
   "execution_count": 1595,
   "id": "79f2eb3a",
   "metadata": {
    "ExecuteTime": {
     "end_time": "2022-09-23T07:17:00.631301Z",
     "start_time": "2022-09-23T07:17:00.616295Z"
    }
   },
   "outputs": [
    {
     "data": {
      "text/html": [
       "<div>\n",
       "<style scoped>\n",
       "    .dataframe tbody tr th:only-of-type {\n",
       "        vertical-align: middle;\n",
       "    }\n",
       "\n",
       "    .dataframe tbody tr th {\n",
       "        vertical-align: top;\n",
       "    }\n",
       "\n",
       "    .dataframe thead th {\n",
       "        text-align: right;\n",
       "    }\n",
       "</style>\n",
       "<table border=\"1\" class=\"dataframe\">\n",
       "  <thead>\n",
       "    <tr style=\"text-align: right;\">\n",
       "      <th></th>\n",
       "      <th>Date</th>\n",
       "      <th>SKU</th>\n",
       "      <th>Store</th>\n",
       "      <th>Sales</th>\n",
       "      <th>Qty</th>\n",
       "      <th>ASP</th>\n",
       "      <th>客单价</th>\n",
       "      <th>Shopping Cart</th>\n",
       "      <th>宝贝名称</th>\n",
       "      <th>URL地址</th>\n",
       "      <th>...</th>\n",
       "      <th>year</th>\n",
       "      <th>month</th>\n",
       "      <th>day</th>\n",
       "      <th>week</th>\n",
       "      <th>quarter</th>\n",
       "      <th>day_of_week</th>\n",
       "      <th>实际值</th>\n",
       "      <th>预测值</th>\n",
       "      <th>差异</th>\n",
       "      <th>差异率</th>\n",
       "    </tr>\n",
       "  </thead>\n",
       "  <tbody>\n",
       "    <tr>\n",
       "      <th>1042</th>\n",
       "      <td>2021-11-08</td>\n",
       "      <td>0</td>\n",
       "      <td>0</td>\n",
       "      <td>46931</td>\n",
       "      <td>159</td>\n",
       "      <td>295.163522</td>\n",
       "      <td>295.163522</td>\n",
       "      <td>3525.0</td>\n",
       "      <td>313</td>\n",
       "      <td>1</td>\n",
       "      <td>...</td>\n",
       "      <td>2021</td>\n",
       "      <td>11</td>\n",
       "      <td>8</td>\n",
       "      <td>45</td>\n",
       "      <td>4</td>\n",
       "      <td>1</td>\n",
       "      <td>159</td>\n",
       "      <td>537</td>\n",
       "      <td>378</td>\n",
       "      <td>2.377358</td>\n",
       "    </tr>\n",
       "    <tr>\n",
       "      <th>1002</th>\n",
       "      <td>2021-09-29</td>\n",
       "      <td>0</td>\n",
       "      <td>0</td>\n",
       "      <td>135543</td>\n",
       "      <td>393</td>\n",
       "      <td>344.895089</td>\n",
       "      <td>382.892006</td>\n",
       "      <td>1480.0</td>\n",
       "      <td>273</td>\n",
       "      <td>1</td>\n",
       "      <td>...</td>\n",
       "      <td>2021</td>\n",
       "      <td>9</td>\n",
       "      <td>29</td>\n",
       "      <td>39</td>\n",
       "      <td>3</td>\n",
       "      <td>3</td>\n",
       "      <td>393</td>\n",
       "      <td>1053</td>\n",
       "      <td>660</td>\n",
       "      <td>1.679389</td>\n",
       "    </tr>\n",
       "    <tr>\n",
       "      <th>1003</th>\n",
       "      <td>2021-09-30</td>\n",
       "      <td>0</td>\n",
       "      <td>0</td>\n",
       "      <td>144910</td>\n",
       "      <td>420</td>\n",
       "      <td>345.023810</td>\n",
       "      <td>386.426667</td>\n",
       "      <td>1480.0</td>\n",
       "      <td>274</td>\n",
       "      <td>1</td>\n",
       "      <td>...</td>\n",
       "      <td>2021</td>\n",
       "      <td>9</td>\n",
       "      <td>30</td>\n",
       "      <td>39</td>\n",
       "      <td>3</td>\n",
       "      <td>4</td>\n",
       "      <td>420</td>\n",
       "      <td>1112</td>\n",
       "      <td>692</td>\n",
       "      <td>1.647619</td>\n",
       "    </tr>\n",
       "    <tr>\n",
       "      <th>1052</th>\n",
       "      <td>2021-11-18</td>\n",
       "      <td>0</td>\n",
       "      <td>0</td>\n",
       "      <td>70785</td>\n",
       "      <td>195</td>\n",
       "      <td>363.000000</td>\n",
       "      <td>363.000000</td>\n",
       "      <td>3525.0</td>\n",
       "      <td>323</td>\n",
       "      <td>1</td>\n",
       "      <td>...</td>\n",
       "      <td>2021</td>\n",
       "      <td>11</td>\n",
       "      <td>18</td>\n",
       "      <td>46</td>\n",
       "      <td>4</td>\n",
       "      <td>4</td>\n",
       "      <td>195</td>\n",
       "      <td>459</td>\n",
       "      <td>264</td>\n",
       "      <td>1.353846</td>\n",
       "    </tr>\n",
       "    <tr>\n",
       "      <th>1001</th>\n",
       "      <td>2021-09-28</td>\n",
       "      <td>0</td>\n",
       "      <td>0</td>\n",
       "      <td>178178</td>\n",
       "      <td>512</td>\n",
       "      <td>348.003906</td>\n",
       "      <td>377.495763</td>\n",
       "      <td>1480.0</td>\n",
       "      <td>272</td>\n",
       "      <td>1</td>\n",
       "      <td>...</td>\n",
       "      <td>2021</td>\n",
       "      <td>9</td>\n",
       "      <td>28</td>\n",
       "      <td>39</td>\n",
       "      <td>3</td>\n",
       "      <td>2</td>\n",
       "      <td>512</td>\n",
       "      <td>1052</td>\n",
       "      <td>540</td>\n",
       "      <td>1.054688</td>\n",
       "    </tr>\n",
       "    <tr>\n",
       "      <th>...</th>\n",
       "      <td>...</td>\n",
       "      <td>...</td>\n",
       "      <td>...</td>\n",
       "      <td>...</td>\n",
       "      <td>...</td>\n",
       "      <td>...</td>\n",
       "      <td>...</td>\n",
       "      <td>...</td>\n",
       "      <td>...</td>\n",
       "      <td>...</td>\n",
       "      <td>...</td>\n",
       "      <td>...</td>\n",
       "      <td>...</td>\n",
       "      <td>...</td>\n",
       "      <td>...</td>\n",
       "      <td>...</td>\n",
       "      <td>...</td>\n",
       "      <td>...</td>\n",
       "      <td>...</td>\n",
       "      <td>...</td>\n",
       "      <td>...</td>\n",
       "    </tr>\n",
       "    <tr>\n",
       "      <th>1051</th>\n",
       "      <td>2021-11-17</td>\n",
       "      <td>0</td>\n",
       "      <td>0</td>\n",
       "      <td>94131</td>\n",
       "      <td>249</td>\n",
       "      <td>378.036145</td>\n",
       "      <td>378.036145</td>\n",
       "      <td>3525.0</td>\n",
       "      <td>322</td>\n",
       "      <td>1</td>\n",
       "      <td>...</td>\n",
       "      <td>2021</td>\n",
       "      <td>11</td>\n",
       "      <td>17</td>\n",
       "      <td>46</td>\n",
       "      <td>4</td>\n",
       "      <td>3</td>\n",
       "      <td>249</td>\n",
       "      <td>258</td>\n",
       "      <td>9</td>\n",
       "      <td>0.036145</td>\n",
       "    </tr>\n",
       "    <tr>\n",
       "      <th>1036</th>\n",
       "      <td>2021-11-02</td>\n",
       "      <td>0</td>\n",
       "      <td>0</td>\n",
       "      <td>1121495</td>\n",
       "      <td>4009</td>\n",
       "      <td>279.744480</td>\n",
       "      <td>279.744480</td>\n",
       "      <td>3525.0</td>\n",
       "      <td>307</td>\n",
       "      <td>1</td>\n",
       "      <td>...</td>\n",
       "      <td>2021</td>\n",
       "      <td>11</td>\n",
       "      <td>2</td>\n",
       "      <td>44</td>\n",
       "      <td>4</td>\n",
       "      <td>2</td>\n",
       "      <td>4009</td>\n",
       "      <td>3883</td>\n",
       "      <td>126</td>\n",
       "      <td>0.031429</td>\n",
       "    </tr>\n",
       "    <tr>\n",
       "      <th>1071</th>\n",
       "      <td>2021-12-07</td>\n",
       "      <td>0</td>\n",
       "      <td>0</td>\n",
       "      <td>189470</td>\n",
       "      <td>640</td>\n",
       "      <td>296.046875</td>\n",
       "      <td>323.880342</td>\n",
       "      <td>1756.0</td>\n",
       "      <td>342</td>\n",
       "      <td>1</td>\n",
       "      <td>...</td>\n",
       "      <td>2021</td>\n",
       "      <td>12</td>\n",
       "      <td>7</td>\n",
       "      <td>49</td>\n",
       "      <td>4</td>\n",
       "      <td>2</td>\n",
       "      <td>640</td>\n",
       "      <td>657</td>\n",
       "      <td>17</td>\n",
       "      <td>0.026562</td>\n",
       "    </tr>\n",
       "    <tr>\n",
       "      <th>1039</th>\n",
       "      <td>2021-11-05</td>\n",
       "      <td>0</td>\n",
       "      <td>0</td>\n",
       "      <td>216161</td>\n",
       "      <td>730</td>\n",
       "      <td>296.112014</td>\n",
       "      <td>296.112014</td>\n",
       "      <td>3525.0</td>\n",
       "      <td>310</td>\n",
       "      <td>1</td>\n",
       "      <td>...</td>\n",
       "      <td>2021</td>\n",
       "      <td>11</td>\n",
       "      <td>5</td>\n",
       "      <td>44</td>\n",
       "      <td>4</td>\n",
       "      <td>5</td>\n",
       "      <td>730</td>\n",
       "      <td>720</td>\n",
       "      <td>10</td>\n",
       "      <td>0.013699</td>\n",
       "    </tr>\n",
       "    <tr>\n",
       "      <th>1028</th>\n",
       "      <td>2021-10-25</td>\n",
       "      <td>0</td>\n",
       "      <td>0</td>\n",
       "      <td>228655</td>\n",
       "      <td>725</td>\n",
       "      <td>315.386207</td>\n",
       "      <td>343.325826</td>\n",
       "      <td>3525.0</td>\n",
       "      <td>299</td>\n",
       "      <td>1</td>\n",
       "      <td>...</td>\n",
       "      <td>2021</td>\n",
       "      <td>10</td>\n",
       "      <td>25</td>\n",
       "      <td>43</td>\n",
       "      <td>4</td>\n",
       "      <td>1</td>\n",
       "      <td>725</td>\n",
       "      <td>716</td>\n",
       "      <td>9</td>\n",
       "      <td>0.012414</td>\n",
       "    </tr>\n",
       "  </tbody>\n",
       "</table>\n",
       "<p>83 rows × 23 columns</p>\n",
       "</div>"
      ],
      "text/plain": [
       "           Date  SKU  Store    Sales   Qty         ASP         客单价  \\\n",
       "1042 2021-11-08    0      0    46931   159  295.163522  295.163522   \n",
       "1002 2021-09-29    0      0   135543   393  344.895089  382.892006   \n",
       "1003 2021-09-30    0      0   144910   420  345.023810  386.426667   \n",
       "1052 2021-11-18    0      0    70785   195  363.000000  363.000000   \n",
       "1001 2021-09-28    0      0   178178   512  348.003906  377.495763   \n",
       "...         ...  ...    ...      ...   ...         ...         ...   \n",
       "1051 2021-11-17    0      0    94131   249  378.036145  378.036145   \n",
       "1036 2021-11-02    0      0  1121495  4009  279.744480  279.744480   \n",
       "1071 2021-12-07    0      0   189470   640  296.046875  323.880342   \n",
       "1039 2021-11-05    0      0   216161   730  296.112014  296.112014   \n",
       "1028 2021-10-25    0      0   228655   725  315.386207  343.325826   \n",
       "\n",
       "      Shopping Cart  宝贝名称  URL地址  ...  year  month  day  week  quarter  \\\n",
       "1042         3525.0   313      1  ...  2021     11    8    45        4   \n",
       "1002         1480.0   273      1  ...  2021      9   29    39        3   \n",
       "1003         1480.0   274      1  ...  2021      9   30    39        3   \n",
       "1052         3525.0   323      1  ...  2021     11   18    46        4   \n",
       "1001         1480.0   272      1  ...  2021      9   28    39        3   \n",
       "...             ...   ...    ...  ...   ...    ...  ...   ...      ...   \n",
       "1051         3525.0   322      1  ...  2021     11   17    46        4   \n",
       "1036         3525.0   307      1  ...  2021     11    2    44        4   \n",
       "1071         1756.0   342      1  ...  2021     12    7    49        4   \n",
       "1039         3525.0   310      1  ...  2021     11    5    44        4   \n",
       "1028         3525.0   299      1  ...  2021     10   25    43        4   \n",
       "\n",
       "      day_of_week   实际值   预测值   差异       差异率  \n",
       "1042            1   159   537  378  2.377358  \n",
       "1002            3   393  1053  660  1.679389  \n",
       "1003            4   420  1112  692  1.647619  \n",
       "1052            4   195   459  264  1.353846  \n",
       "1001            2   512  1052  540  1.054688  \n",
       "...           ...   ...   ...  ...       ...  \n",
       "1051            3   249   258    9  0.036145  \n",
       "1036            2  4009  3883  126  0.031429  \n",
       "1071            2   640   657   17  0.026562  \n",
       "1039            5   730   720   10  0.013699  \n",
       "1028            1   725   716    9  0.012414  \n",
       "\n",
       "[83 rows x 23 columns]"
      ]
     },
     "execution_count": 1595,
     "metadata": {},
     "output_type": "execute_result"
    }
   ],
   "source": [
    "test_df = pd.merge(flp_test,new_error_df,left_index=True,right_index=True)\n",
    "test_df.sort_values(by='差异率',ascending=False)"
   ]
  },
  {
   "cell_type": "code",
   "execution_count": 1596,
   "id": "a3c2d46e",
   "metadata": {},
   "outputs": [
    {
     "data": {
      "text/html": [
       "<div>\n",
       "<style scoped>\n",
       "    .dataframe tbody tr th:only-of-type {\n",
       "        vertical-align: middle;\n",
       "    }\n",
       "\n",
       "    .dataframe tbody tr th {\n",
       "        vertical-align: top;\n",
       "    }\n",
       "\n",
       "    .dataframe thead th {\n",
       "        text-align: right;\n",
       "    }\n",
       "</style>\n",
       "<table border=\"1\" class=\"dataframe\">\n",
       "  <thead>\n",
       "    <tr style=\"text-align: right;\">\n",
       "      <th></th>\n",
       "      <th>Date</th>\n",
       "      <th>SKU</th>\n",
       "      <th>Store</th>\n",
       "      <th>Sales</th>\n",
       "      <th>Qty</th>\n",
       "      <th>ASP</th>\n",
       "      <th>客单价</th>\n",
       "      <th>Shopping Cart</th>\n",
       "      <th>宝贝名称</th>\n",
       "      <th>URL地址</th>\n",
       "      <th>...</th>\n",
       "      <th>year</th>\n",
       "      <th>month</th>\n",
       "      <th>day</th>\n",
       "      <th>week</th>\n",
       "      <th>quarter</th>\n",
       "      <th>day_of_week</th>\n",
       "      <th>实际值</th>\n",
       "      <th>预测值</th>\n",
       "      <th>差异</th>\n",
       "      <th>差异率</th>\n",
       "    </tr>\n",
       "  </thead>\n",
       "  <tbody>\n",
       "    <tr>\n",
       "      <th>1045</th>\n",
       "      <td>2021-11-11</td>\n",
       "      <td>0</td>\n",
       "      <td>0</td>\n",
       "      <td>8909256</td>\n",
       "      <td>34044</td>\n",
       "      <td>261.698293</td>\n",
       "      <td>261.698293</td>\n",
       "      <td>3525.0</td>\n",
       "      <td>316</td>\n",
       "      <td>1</td>\n",
       "      <td>...</td>\n",
       "      <td>2021</td>\n",
       "      <td>11</td>\n",
       "      <td>11</td>\n",
       "      <td>45</td>\n",
       "      <td>4</td>\n",
       "      <td>4</td>\n",
       "      <td>34044</td>\n",
       "      <td>29621</td>\n",
       "      <td>4423</td>\n",
       "      <td>0.129920</td>\n",
       "    </tr>\n",
       "    <tr>\n",
       "      <th>1076</th>\n",
       "      <td>2021-12-12</td>\n",
       "      <td>0</td>\n",
       "      <td>0</td>\n",
       "      <td>4313514</td>\n",
       "      <td>15757</td>\n",
       "      <td>273.752240</td>\n",
       "      <td>315.407579</td>\n",
       "      <td>1756.0</td>\n",
       "      <td>347</td>\n",
       "      <td>1</td>\n",
       "      <td>...</td>\n",
       "      <td>2021</td>\n",
       "      <td>12</td>\n",
       "      <td>12</td>\n",
       "      <td>49</td>\n",
       "      <td>4</td>\n",
       "      <td>7</td>\n",
       "      <td>15757</td>\n",
       "      <td>17698</td>\n",
       "      <td>1941</td>\n",
       "      <td>0.123183</td>\n",
       "    </tr>\n",
       "    <tr>\n",
       "      <th>1035</th>\n",
       "      <td>2021-11-01</td>\n",
       "      <td>0</td>\n",
       "      <td>0</td>\n",
       "      <td>7982268</td>\n",
       "      <td>28450</td>\n",
       "      <td>280.571835</td>\n",
       "      <td>280.571835</td>\n",
       "      <td>3525.0</td>\n",
       "      <td>306</td>\n",
       "      <td>1</td>\n",
       "      <td>...</td>\n",
       "      <td>2021</td>\n",
       "      <td>11</td>\n",
       "      <td>1</td>\n",
       "      <td>44</td>\n",
       "      <td>4</td>\n",
       "      <td>1</td>\n",
       "      <td>28450</td>\n",
       "      <td>26779</td>\n",
       "      <td>1671</td>\n",
       "      <td>0.058735</td>\n",
       "    </tr>\n",
       "    <tr>\n",
       "      <th>1037</th>\n",
       "      <td>2021-11-03</td>\n",
       "      <td>0</td>\n",
       "      <td>0</td>\n",
       "      <td>1304223</td>\n",
       "      <td>4663</td>\n",
       "      <td>279.696148</td>\n",
       "      <td>279.696148</td>\n",
       "      <td>3525.0</td>\n",
       "      <td>308</td>\n",
       "      <td>1</td>\n",
       "      <td>...</td>\n",
       "      <td>2021</td>\n",
       "      <td>11</td>\n",
       "      <td>3</td>\n",
       "      <td>44</td>\n",
       "      <td>4</td>\n",
       "      <td>3</td>\n",
       "      <td>4663</td>\n",
       "      <td>3342</td>\n",
       "      <td>1321</td>\n",
       "      <td>0.283294</td>\n",
       "    </tr>\n",
       "    <tr>\n",
       "      <th>1023</th>\n",
       "      <td>2021-10-20</td>\n",
       "      <td>0</td>\n",
       "      <td>0</td>\n",
       "      <td>621259</td>\n",
       "      <td>1961</td>\n",
       "      <td>316.807241</td>\n",
       "      <td>355.818442</td>\n",
       "      <td>9818.0</td>\n",
       "      <td>294</td>\n",
       "      <td>1</td>\n",
       "      <td>...</td>\n",
       "      <td>2021</td>\n",
       "      <td>10</td>\n",
       "      <td>20</td>\n",
       "      <td>42</td>\n",
       "      <td>4</td>\n",
       "      <td>3</td>\n",
       "      <td>1961</td>\n",
       "      <td>885</td>\n",
       "      <td>1076</td>\n",
       "      <td>0.548700</td>\n",
       "    </tr>\n",
       "    <tr>\n",
       "      <th>...</th>\n",
       "      <td>...</td>\n",
       "      <td>...</td>\n",
       "      <td>...</td>\n",
       "      <td>...</td>\n",
       "      <td>...</td>\n",
       "      <td>...</td>\n",
       "      <td>...</td>\n",
       "      <td>...</td>\n",
       "      <td>...</td>\n",
       "      <td>...</td>\n",
       "      <td>...</td>\n",
       "      <td>...</td>\n",
       "      <td>...</td>\n",
       "      <td>...</td>\n",
       "      <td>...</td>\n",
       "      <td>...</td>\n",
       "      <td>...</td>\n",
       "      <td>...</td>\n",
       "      <td>...</td>\n",
       "      <td>...</td>\n",
       "      <td>...</td>\n",
       "    </tr>\n",
       "    <tr>\n",
       "      <th>1093</th>\n",
       "      <td>2021-12-29</td>\n",
       "      <td>0</td>\n",
       "      <td>0</td>\n",
       "      <td>78347</td>\n",
       "      <td>253</td>\n",
       "      <td>309.671937</td>\n",
       "      <td>329.189076</td>\n",
       "      <td>1330.0</td>\n",
       "      <td>364</td>\n",
       "      <td>1</td>\n",
       "      <td>...</td>\n",
       "      <td>2021</td>\n",
       "      <td>12</td>\n",
       "      <td>29</td>\n",
       "      <td>52</td>\n",
       "      <td>4</td>\n",
       "      <td>3</td>\n",
       "      <td>253</td>\n",
       "      <td>270</td>\n",
       "      <td>17</td>\n",
       "      <td>0.067194</td>\n",
       "    </tr>\n",
       "    <tr>\n",
       "      <th>1012</th>\n",
       "      <td>2021-10-09</td>\n",
       "      <td>0</td>\n",
       "      <td>0</td>\n",
       "      <td>125785</td>\n",
       "      <td>335</td>\n",
       "      <td>375.477612</td>\n",
       "      <td>399.317460</td>\n",
       "      <td>1606.0</td>\n",
       "      <td>283</td>\n",
       "      <td>1</td>\n",
       "      <td>...</td>\n",
       "      <td>2021</td>\n",
       "      <td>10</td>\n",
       "      <td>9</td>\n",
       "      <td>40</td>\n",
       "      <td>4</td>\n",
       "      <td>6</td>\n",
       "      <td>335</td>\n",
       "      <td>351</td>\n",
       "      <td>16</td>\n",
       "      <td>0.047761</td>\n",
       "    </tr>\n",
       "    <tr>\n",
       "      <th>1039</th>\n",
       "      <td>2021-11-05</td>\n",
       "      <td>0</td>\n",
       "      <td>0</td>\n",
       "      <td>216161</td>\n",
       "      <td>730</td>\n",
       "      <td>296.112014</td>\n",
       "      <td>296.112014</td>\n",
       "      <td>3525.0</td>\n",
       "      <td>310</td>\n",
       "      <td>1</td>\n",
       "      <td>...</td>\n",
       "      <td>2021</td>\n",
       "      <td>11</td>\n",
       "      <td>5</td>\n",
       "      <td>44</td>\n",
       "      <td>4</td>\n",
       "      <td>5</td>\n",
       "      <td>730</td>\n",
       "      <td>720</td>\n",
       "      <td>10</td>\n",
       "      <td>0.013699</td>\n",
       "    </tr>\n",
       "    <tr>\n",
       "      <th>1028</th>\n",
       "      <td>2021-10-25</td>\n",
       "      <td>0</td>\n",
       "      <td>0</td>\n",
       "      <td>228655</td>\n",
       "      <td>725</td>\n",
       "      <td>315.386207</td>\n",
       "      <td>343.325826</td>\n",
       "      <td>3525.0</td>\n",
       "      <td>299</td>\n",
       "      <td>1</td>\n",
       "      <td>...</td>\n",
       "      <td>2021</td>\n",
       "      <td>10</td>\n",
       "      <td>25</td>\n",
       "      <td>43</td>\n",
       "      <td>4</td>\n",
       "      <td>1</td>\n",
       "      <td>725</td>\n",
       "      <td>716</td>\n",
       "      <td>9</td>\n",
       "      <td>0.012414</td>\n",
       "    </tr>\n",
       "    <tr>\n",
       "      <th>1051</th>\n",
       "      <td>2021-11-17</td>\n",
       "      <td>0</td>\n",
       "      <td>0</td>\n",
       "      <td>94131</td>\n",
       "      <td>249</td>\n",
       "      <td>378.036145</td>\n",
       "      <td>378.036145</td>\n",
       "      <td>3525.0</td>\n",
       "      <td>322</td>\n",
       "      <td>1</td>\n",
       "      <td>...</td>\n",
       "      <td>2021</td>\n",
       "      <td>11</td>\n",
       "      <td>17</td>\n",
       "      <td>46</td>\n",
       "      <td>4</td>\n",
       "      <td>3</td>\n",
       "      <td>249</td>\n",
       "      <td>258</td>\n",
       "      <td>9</td>\n",
       "      <td>0.036145</td>\n",
       "    </tr>\n",
       "  </tbody>\n",
       "</table>\n",
       "<p>83 rows × 23 columns</p>\n",
       "</div>"
      ],
      "text/plain": [
       "           Date  SKU  Store    Sales    Qty         ASP         客单价  \\\n",
       "1045 2021-11-11    0      0  8909256  34044  261.698293  261.698293   \n",
       "1076 2021-12-12    0      0  4313514  15757  273.752240  315.407579   \n",
       "1035 2021-11-01    0      0  7982268  28450  280.571835  280.571835   \n",
       "1037 2021-11-03    0      0  1304223   4663  279.696148  279.696148   \n",
       "1023 2021-10-20    0      0   621259   1961  316.807241  355.818442   \n",
       "...         ...  ...    ...      ...    ...         ...         ...   \n",
       "1093 2021-12-29    0      0    78347    253  309.671937  329.189076   \n",
       "1012 2021-10-09    0      0   125785    335  375.477612  399.317460   \n",
       "1039 2021-11-05    0      0   216161    730  296.112014  296.112014   \n",
       "1028 2021-10-25    0      0   228655    725  315.386207  343.325826   \n",
       "1051 2021-11-17    0      0    94131    249  378.036145  378.036145   \n",
       "\n",
       "      Shopping Cart  宝贝名称  URL地址  ...  year  month  day  week  quarter  \\\n",
       "1045         3525.0   316      1  ...  2021     11   11    45        4   \n",
       "1076         1756.0   347      1  ...  2021     12   12    49        4   \n",
       "1035         3525.0   306      1  ...  2021     11    1    44        4   \n",
       "1037         3525.0   308      1  ...  2021     11    3    44        4   \n",
       "1023         9818.0   294      1  ...  2021     10   20    42        4   \n",
       "...             ...   ...    ...  ...   ...    ...  ...   ...      ...   \n",
       "1093         1330.0   364      1  ...  2021     12   29    52        4   \n",
       "1012         1606.0   283      1  ...  2021     10    9    40        4   \n",
       "1039         3525.0   310      1  ...  2021     11    5    44        4   \n",
       "1028         3525.0   299      1  ...  2021     10   25    43        4   \n",
       "1051         3525.0   322      1  ...  2021     11   17    46        4   \n",
       "\n",
       "      day_of_week    实际值    预测值    差异       差异率  \n",
       "1045            4  34044  29621  4423  0.129920  \n",
       "1076            7  15757  17698  1941  0.123183  \n",
       "1035            1  28450  26779  1671  0.058735  \n",
       "1037            3   4663   3342  1321  0.283294  \n",
       "1023            3   1961    885  1076  0.548700  \n",
       "...           ...    ...    ...   ...       ...  \n",
       "1093            3    253    270    17  0.067194  \n",
       "1012            6    335    351    16  0.047761  \n",
       "1039            5    730    720    10  0.013699  \n",
       "1028            1    725    716     9  0.012414  \n",
       "1051            3    249    258     9  0.036145  \n",
       "\n",
       "[83 rows x 23 columns]"
      ]
     },
     "execution_count": 1596,
     "metadata": {},
     "output_type": "execute_result"
    }
   ],
   "source": [
    "test_df.sort_values(by='差异',ascending=False)"
   ]
  },
  {
   "cell_type": "code",
   "execution_count": 1596,
   "id": "386de50c",
   "metadata": {},
   "outputs": [],
   "source": []
  }
 ],
 "metadata": {
  "kernelspec": {
   "display_name": "Python 3 (ipykernel)",
   "language": "python",
   "name": "python3"
  },
  "language_info": {
   "codemirror_mode": {
    "name": "ipython",
    "version": 3
   },
   "file_extension": ".py",
   "mimetype": "text/x-python",
   "name": "python",
   "nbconvert_exporter": "python",
   "pygments_lexer": "ipython3",
   "version": "3.9.13"
  },
  "nbTranslate": {
   "displayLangs": [
    "*"
   ],
   "hotkey": "alt-t",
   "langInMainMenu": true,
   "sourceLang": "en",
   "targetLang": "fr",
   "useGoogleTranslate": true
  },
  "toc": {
   "base_numbering": 1,
   "nav_menu": {},
   "number_sections": true,
   "sideBar": true,
   "skip_h1_title": false,
   "title_cell": "Table of Contents",
   "title_sidebar": "Contents",
   "toc_cell": false,
   "toc_position": {},
   "toc_section_display": true,
   "toc_window_display": false
  },
  "varInspector": {
   "cols": {
    "lenName": 16,
    "lenType": 16,
    "lenVar": 40
   },
   "kernels_config": {
    "python": {
     "delete_cmd_postfix": "",
     "delete_cmd_prefix": "del ",
     "library": "var_list.py",
     "varRefreshCmd": "print(var_dic_list())"
    },
    "r": {
     "delete_cmd_postfix": ") ",
     "delete_cmd_prefix": "rm(",
     "library": "var_list.r",
     "varRefreshCmd": "cat(var_dic_list()) "
    }
   },
   "types_to_exclude": [
    "module",
    "function",
    "builtin_function_or_method",
    "instance",
    "_Feature"
   ],
   "window_display": false
  }
 },
 "nbformat": 4,
 "nbformat_minor": 5
}
